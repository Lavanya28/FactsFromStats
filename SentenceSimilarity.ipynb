{
 "cells": [
  {
   "cell_type": "code",
   "execution_count": 1,
   "metadata": {
    "scrolled": true
   },
   "outputs": [],
   "source": [
    "import pickle\n",
    "a = open(\"Articles.pickle\",'rb')\n",
    "uncleanedarticles = pickle.load(a)\n",
    "articles=[]\n",
    "text=\"\"\n",
    "title=\"\"\n",
    "titles=[]\n",
    "sources=[]\n",
    "for i in uncleanedarticles:\n",
    "    source,url,title,text = i[0],i[1],i[2],i[3]\n",
    "    sources.append(source)\n",
    "    text = text.replace('\\n\\n','\\n')\n",
    "    if text ==\"\":\n",
    "        continue\n",
    "    if text.count('\\n') <10:\n",
    "        continue\n",
    "    if text.count('https://') >10:\n",
    "        continue   \n",
    "    title = title.strip(' ')\n",
    "    if title in titles:\n",
    "        continue\n",
    "    titles.append(title)\n",
    "    articles.append([source,url,title,text])\n",
    "a.close()"
   ]
  },
  {
   "cell_type": "code",
   "execution_count": 2,
   "metadata": {},
   "outputs": [],
   "source": [
    "from nltk.stem import PorterStemmer\n",
    "from nltk.stem.snowball import SnowballStemmer\n",
    "from nltk.corpus import stopwords\n",
    "ps = SnowballStemmer('english')\n",
    "wordRepArticles =[]\n",
    "idf={}\n",
    "\n",
    "articleslen=[]\n",
    "for i in articles:\n",
    "    title,text = i[2],i[3]\n",
    "    text = text.replace('\\\\','');text = text.replace('.\\n','\\n');text = text.replace('\\n\\n','\\n')\n",
    "    articledist={}\n",
    "    sentencelis=[]\n",
    "    count=0\n",
    "    for i in (text+'\\n'+title).split('\\n'):\n",
    "        if i ==title:\n",
    "            mult =2\n",
    "        else:\n",
    "            mult =1\n",
    "        linedist={}\n",
    "        v = i.split(' ')\n",
    "        if len(v)<4:\n",
    "            continue\n",
    "        for word in v:\n",
    "            if word not in stopwords.words('english'):\n",
    "                word = word.replace('(','');word = word.replace(')','')\n",
    "                word = word.replace('\"','');word = word.replace(',','');word = word.strip(' ')\n",
    "                stemmed = ps.stem(word)\n",
    "                if stemmed in articledist.keys():\n",
    "                    articledist[stemmed]+=mult\n",
    "                else:\n",
    "                    articledist[stemmed]=mult\n",
    "                if stemmed in linedist.keys():\n",
    "                    linedist[stemmed]+=1\n",
    "                else:\n",
    "                    linedist[stemmed]=1\n",
    "            count+=1\n",
    "        sentencelis.append([i,linedist])\n",
    "    for words in articledist.keys():   \n",
    "        if words in idf.keys():\n",
    "            idf[words]+=1\n",
    "        else:\n",
    "            idf[words]=1\n",
    "    wordRepArticles.append([title,articledist,sentencelis])\n",
    "    articleslen.append(count)"
   ]
  },
  {
   "cell_type": "code",
   "execution_count": 3,
   "metadata": {
    "scrolled": true
   },
   "outputs": [
    {
     "name": "stdout",
     "output_type": "stream",
     "text": [
      "2352\n",
      "6198\n"
     ]
    }
   ],
   "source": [
    "# print(len(wordRepArticles))\n",
    "# print(wordRepArticles[0])\n",
    "print(len(articles))\n",
    "print(len(uncleanedarticles))"
   ]
  },
  {
   "cell_type": "code",
   "execution_count": 4,
   "metadata": {
    "scrolled": true
   },
   "outputs": [
    {
     "data": {
      "text/plain": [
       "[['abcnews',\n",
       "  'https://abcnews.go.com/US/reads-monday/story?id=59712958',\n",
       "  'Must reads before Monday',\n",
       "  'One parent\\'s decision to shame his daughter on social media drew mixed responses, Florida is struggling with major toxic algae blooms, the only operating spaceport in the world is crumbling, and eight children affected by Trump\\'s \"zero-tolerance\" border policy are still waiting to be reunited with their families.\\nDon’t miss out on some of ABC News\\' best reporting from this week.\\n\\'What are you trying to prove?\\': Parenting experts weigh in on dad\\'s bullying punishment\\nSTOCK/Getty Images\\nA viral video posted by a father that forced his daughter to walk 5 miles to school in near-freezing temperatures has prompted questions about the use of social media as a way to humiliate and discipline children. Some experts say that shame is not an \"effective way to change behavior.\"\\n\\'When is this going to stop?\\': Florida activist highlights devastating impact of algae blooms on wildlife\\nJoe Raedle/Getty Images, FILE\\nHarmful algae blooms in Florida have been killing off fish, eels and dolphins. Scientists say that these blooms could be exacerbated by a warming and increasingly acidic ocean. Critics say that Gov. Rick Scott\\'s loosening of environmental regulations are part of why algae blooms have been so bad.\\nRussia\\'s crumbling Baikonur spaceport is Earth\\'s only launch pad for manned flights\\nPatrick Reevell/ABC News\\nThis week, a Soyuz rocket carrying three astronauts took off for the International Space Station. It launched from Baikonur, located in Khazakstan, which is currently the only place in the world for these types of space flights. The spaceport reflects Russia\\'s complicated legacy of space flight.\\nDevastated town mourns kidnapped, murdered teen as one of the \\'brightest lights\\'\\nFBI via AP\\nA town is in mourning for 13-year-old Hania Noelia Aguilar, who was kidnapped and murdered in Lumberton, North Carolina. Friends and family spoke at her funeral service on Saturday, which was held at her high school gymnasium. A suspect, Michael Ray McLellan, 34, has been arrested and charged with her murder.\\n8 kids left: The lingering aftermath of Trump\\'s \\'zero-tolerance\\' policy at the border\\nJohn Moore/Getty Images\\nAfter former Attorney General Jeff Sessions\\' April decision to prosecute adults crossing America\\'s southern border illegally, more than 2,600 children were separated from their families. President Trump eventually issued an executive order that put a stop to that practice. Now, eight children who are eligible to be reunited with their families are still waiting to see them.'],\n",
       " ['abcnews',\n",
       "  'https://abcnews.go.com/US/massachusetts-firefighter-dies-battling-huge-blaze/story?id=59711602',\n",
       "  'Worcester firefighter dies while battling huge blaze, the latest in a string of firefighter deaths in city',\n",
       "  'A Worcester, Massachusetts, firefighter died early Sunday while battling a massive fire in a 3-story building, officials said -- the latest in a sad history of firefighter deaths in the city.\\nInterested in Wildfires? Add Wildfires as an interest to stay up to date on the latest Wildfires news, video, and analysis from ABC News. Add Interest\\nFirefighters responded to a fire at 7 Lowell St. in Worcester just before 4 a.m., according to fire officials.\\nWhen conditions deteriorated and the fire went up to five alarms, five firefighters were forced to escape the blaze using ladders, officials said during a news conference Sunday.\\nTwo firefighters were taken to the hospital, but Christopher Roy, 36, succumbed to his injuries, officials said.\\nWCVB\\n“It’s important for us to know and appreciate how incredibly hard the men of the Worcester fire department fought to save Chris’ life, and we know how devastating this is to them,” said Worcester City Manager Edward M. Augustus.\\nThe Worcester Fire Department mourns the line of duty death of FF Christopher Roy who courageously battled a 5 alarm fire on Lowell St. All responding firefighters & crews displayed supreme heroism under extreme conditions. We ask you to keep the family of FF Roy in your thoughts pic.twitter.com/Xs0bOQHGFa — Worcester Fire Dept. (@WorcesterFD) December 9, 2018\\nRoy was assigned to Ladder 4, Group 3, at Webster Square Fire Station. He had been for the department for two and a half years, according to Worcester Fire Chief Michael Lavoie.\\nRoy had an 8-year-old daughter, Ava, and is survived by his mother, Michelle, and his father, Ron, officials said during the news conference.\\n“Firefighter Roy paid the ultimate sacrifice last night, doing what he always wanted to do -- helping people and saving lives,” said Mayor Joseph Petty.\\nThis is not the first time that the Worcester Fire Department has suffered a major loss.\\nSix Worcester firefighters died in a cold storage warehouse fire on Dec. 3, 1999, in a tragedy that became known as the \"Worcester Six.\"\\nThen-President Bill Clinton and Vice President Al Gore joined mourners at the memorial service.\\nOn Dec. 8, 2011, Worcester firefighter John Davies, 43, while responding to a fire when the building he was in collapsed, according to the National Fallen Firefighters Foundation.\\nWCVB\\n\"Once again, December has proven to be the cruelest month of the year for the Worcester Fire Department,\" said Worcester Mayor Joseph Petty at the press conference on Sunday.\\n\"The loss is especially gut-wrenching in the wake of the anniversary of the Worcester Six on Dec. 3, 1999,\" said Augustus. \"Every day, our fire fighters selflessly risk their lives without a second thought.\"'],\n",
       " ['abcnews',\n",
       "  'https://abcnews.go.com/US/wireStory/funeral-baby-jane-doe-found-california-highway-59713818',\n",
       "  \"Funeral for 'Baby Jane Doe' found near California highway\",\n",
       "  'Dozens of people bearing flowers or stuffed animals attended a funeral for a newborn girl found dead last summer along a Southern California highway.\\nAuthorities in Riverside County continue to investigate the death of the baby whose identity remains a mystery.\\nThe service on Thursday was organized in part by police officers and firefighters, the Press-Enterprise reported.\\nJon Castillo, a Corona police chaplain, led the about 70 people in prayer near the tiny, flower-draped casket.\\n\"Every person who walks the planet is born in God\\'s image, and she had inherent value and worth,\" Castillo said.\\nThe girl known as \"Baby Jane Doe\" was discovered on July 27 in a cardboard box near Interstate 15 in Corona, east of Los Angeles. She was wrapped in a t-shirt with stripes and a floral pattern.\\nMonica Montejano was among those who said they felt compelled to show respect for the child.\\n\"I would have held her,\" Montejano told the newspaper. \"I would have loved her.\"\\nLorena Palacios placed a pair of miniature Christmas trees by the casket. She bought one at a grocery store and the other was purchased by a store employee who wanted to contribute.\\n\"It\\'s December, it\\'s Christmas. I have three kids. Every kid wants a tree,\" Palacios said.\\nThe coroner has been unable to identify potential family members through DNA. Officials said detectives are asking for the public\\'s help during the ongoing investigation.\\nAuthorities also emphasized that Corona offers several sites — including police stations, fire stations and hospitals — where parents can give up an infant within 72 hours of birth with no questions asked.\\n———\\nInformation from: The Press-Enterprise, http://www.pe.com']]"
      ]
     },
     "execution_count": 4,
     "metadata": {},
     "output_type": "execute_result"
    }
   ],
   "source": [
    "articles[:3]"
   ]
  },
  {
   "cell_type": "code",
   "execution_count": null,
   "metadata": {
    "scrolled": true
   },
   "outputs": [],
   "source": [
    "import math\n",
    "n = len(articles)\n",
    "avgArticleLen = sum(articleslen)*1.0/n\n",
    "match = [[0 for i in range(n)] for i in range(n)]\n",
    "for i in range(n):\n",
    "    mainarticle = wordRepArticles[i]\n",
    "    mainlength = articleslen[i]\n",
    "    for j in range(i+1,n):\n",
    "        comparearticle = wordRepArticles[j]\n",
    "        comparelength = articleslen[j]\n",
    "        commonwords = list(set(mainarticle[1].keys()) & set(comparearticle[1].keys())) \n",
    "        value = 0\n",
    "        for word in commonwords:\n",
    "            mainvalue = (1+math.log(mainarticle[1][word]))*1.0/(math.log(1+mainlength/avgArticleLen))\n",
    "            compvalue = (1+math.log(comparearticle[1][word]))*1.0/(math.log(1+comparelength/avgArticleLen))\n",
    "            value += mainvalue*compvalue* math.log(1+n/idf[word])\n",
    "        match[i][j] = value\n",
    "        match[j][i] = value"
   ]
  },
  {
   "cell_type": "code",
   "execution_count": null,
   "metadata": {
    "scrolled": true
   },
   "outputs": [],
   "source": [
    "topmatches = [[] for i in range(n)]\n",
    "matches = 3\n",
    "for i in range(n):\n",
    "    vals = [[match[i][j],j] for j in range(n)]\n",
    "    toparticle = sorted(vals,reverse=True)[:matches]\n",
    "    if i<50:\n",
    "        print(\"Main title: \"+ articles[i][2])\n",
    "    for j in range(matches):\n",
    "        if toparticle[j][0] > 1000:\n",
    "            topmatches[i].append(toparticle[j])\n",
    "            if i<50:\n",
    "                print(str(j)+\"/\" + str(matches)+ \": \" + articles[toparticle[j][1]][2])\n",
    "matchvalues =[]\n",
    "for i in topmatches:\n",
    "    for j in i:\n",
    "        matchvalues.append(j[0])        "
   ]
  },
  {
   "cell_type": "code",
   "execution_count": null,
   "metadata": {},
   "outputs": [],
   "source": [
    "print(avgArticleLen)"
   ]
  },
  {
   "cell_type": "code",
   "execution_count": null,
   "metadata": {
    "scrolled": true
   },
   "outputs": [],
   "source": [
    "sentmatch = []\n",
    "for i in range(n):\n",
    "    mainarticle = wordRepArticles[i]\n",
    "    rep=[]\n",
    "    for j in range(len(topmatches[i])):\n",
    "        comparearticle = wordRepArticles[topmatches[i][j][1]]\n",
    "        bestmatchSentence =[]\n",
    "        for k in range(len(mainarticle[2])):\n",
    "            val = -1\n",
    "            msentence = mainarticle[2][k][1]\n",
    "            mainlength = len(mainarticle[2][k][0].split(' '))\n",
    "            for l in range(len(comparearticle[2])):\n",
    "                csentence = comparearticle[2][l][1]\n",
    "                comparelength = len(comparearticle[2][l][0].split(' '))\n",
    "                commonwords = list(set(msentence.keys()) & set(csentence.keys())) \n",
    "                value = 0\n",
    "                for word in commonwords:\n",
    "                    mainvalue = (1+math.log(msentence[word]))*1.0/(math.log(1+mainlength/avgArticleLen))\n",
    "                    compvalue = (1+math.log(csentence[word]))*1.0/(math.log(1+comparelength/avgArticleLen))\n",
    "                    value += mainvalue*compvalue* math.log(1+n/idf[word])\n",
    "                if value>val:\n",
    "                    val = value\n",
    "                    ind = l\n",
    "            bestmatchSentence.append([ind,val,comparearticle[2][ind][0]])\n",
    "        rep.append(bestmatchSentence)\n",
    "    sentmatch.append(rep)"
   ]
  },
  {
   "cell_type": "code",
   "execution_count": null,
   "metadata": {},
   "outputs": [],
   "source": [
    "from vaderSentiment.vaderSentiment import SentimentIntensityAnalyzer\n",
    "analyzer = SentimentIntensityAnalyzer() \n",
    "\n",
    "sources = list(set(sources))\n",
    "\n",
    "reliability = [9.9 for i in range(len(sources))]\n",
    "articleaggreeement=[]\n",
    "for i in range(n):\n",
    "    articleval =0\n",
    "    mainarticle = wordRepArticles[i]\n",
    "    for j in range(len(topmatches[i])):\n",
    "        val=0\n",
    "        comparticle=wordRepArticles[topmatches[i][j][1]]\n",
    "        for k in range(len(mainarticle[2])):\n",
    "            sent1 = analyzer.polarity_scores(mainarticle[2][k][0])['compound']\n",
    "            sent2 = analyzer.polarity_scores(sentmatch[i][j][k][2])['compound']\n",
    "            if (sent1 >0.05 and sent2 >0.05) or (sent1 <-0.05 and sent2 <-0.05) or (sent1 <0.05 and sent2 <0.05 and sent1 >-0.05 and sent2 >-0.05):\n",
    "                val +=1\n",
    "        val /= len(mainarticle[2])\n",
    "        topmatches[i][j][0] = val*100\n",
    "        articleval +=val*reliability[sources.index(articles[topmatches[i][j][1]][0])]\n",
    "    if len(topmatches[i])==0:\n",
    "        articleaggreeement.append(0)\n",
    "        articles[i].append(0)\n",
    "    else:\n",
    "        articleaggreeement.append(articleval/len(topmatches[i]))\n",
    "        articles[i].append(articleval/len(topmatches[i]))\n",
    "\n",
    "for i in range(n):\n",
    "    articles[i][0] = sources.index(articles[i][0])\n",
    "    articles[i].append(i)"
   ]
  },
  {
   "cell_type": "code",
   "execution_count": null,
   "metadata": {
    "scrolled": true
   },
   "outputs": [],
   "source": [
    "print(articles[:2])\n",
    "print(topmatches[:2])"
   ]
  },
  {
   "cell_type": "code",
   "execution_count": null,
   "metadata": {},
   "outputs": [],
   "source": [
    "sourcerelia=[]\n",
    "for i in range(len(sources)):\n",
    "    sourcerelia.append([i,sources[i],reliability[i]])\n",
    "fileObject = open('./mysite/sourcereliability.pickle','wb')\n",
    "pickle.dump(sourcerelia,fileObject)\n",
    "fileObject.close()\n",
    "print(sourcerelia[0])"
   ]
  },
  {
   "cell_type": "code",
   "execution_count": null,
   "metadata": {},
   "outputs": [],
   "source": [
    "articlesimilarity=[]\n",
    "for i in range(n):\n",
    "    for j in range(len(topmatches[i])):\n",
    "#         articlesimilarity.append([articles[i][2],articles[topmatches[i][j][1]][2]])\n",
    "        articlesimilarity.append([i,topmatches[i][j][1],topmatches[i][j][0]])\n",
    "fileObject = open('./mysite/articlessimilarity.pickle','wb')\n",
    "pickle.dump(articlesimilarity,fileObject)\n",
    "fileObject.close()"
   ]
  },
  {
   "cell_type": "code",
   "execution_count": null,
   "metadata": {},
   "outputs": [],
   "source": [
    "print(articlesimilarity[0])"
   ]
  },
  {
   "cell_type": "code",
   "execution_count": null,
   "metadata": {},
   "outputs": [],
   "source": [
    "fileObject = open('./mysite/cleanedarticles.pickle','wb')\n",
    "pickle.dump(articles,fileObject)\n",
    "fileObject.close()"
   ]
  },
  {
   "cell_type": "code",
   "execution_count": null,
   "metadata": {},
   "outputs": [],
   "source": [
    "# max([i[0] for i in articles])"
   ]
  },
  {
   "cell_type": "code",
   "execution_count": null,
   "metadata": {},
   "outputs": [],
   "source": [
    "matchvalues =[]\n",
    "for i in topmatches:\n",
    "    for j in i:\n",
    "        matchvalues.append(j[0])"
   ]
  },
  {
   "cell_type": "code",
   "execution_count": null,
   "metadata": {
    "scrolled": false
   },
   "outputs": [],
   "source": [
    "n = len(articles)\n",
    "import numpy as np\n",
    "import matplotlib.pyplot as plt\n",
    "print(max(matchvalues),min(matchvalues))\n",
    "cleanval = list(filter(lambda a: a > 1000, matchvalues))\n",
    "print(len(cleanval),n*3)\n",
    "_, bins, patches = plt.hist(cleanval, 1000, facecolor='g')\n",
    "plt.show()"
   ]
  },
  {
   "cell_type": "code",
   "execution_count": null,
   "metadata": {},
   "outputs": [],
   "source": []
  }
 ],
 "metadata": {
  "kernelspec": {
   "display_name": "Python 3",
   "language": "python",
   "name": "python3"
  },
  "language_info": {
   "codemirror_mode": {
    "name": "ipython",
    "version": 3
   },
   "file_extension": ".py",
   "mimetype": "text/x-python",
   "name": "python",
   "nbconvert_exporter": "python",
   "pygments_lexer": "ipython3",
   "version": "3.7.1"
  }
 },
 "nbformat": 4,
 "nbformat_minor": 2
}
