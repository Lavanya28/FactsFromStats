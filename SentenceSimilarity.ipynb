{
 "cells": [
  {
   "cell_type": "code",
   "execution_count": 20,
   "metadata": {
    "scrolled": true
   },
   "outputs": [],
   "source": [
    "import pickle\n",
    "a = open(\"Articles.pickle\",'rb')\n",
    "uncleanedarticles = pickle.load(a)\n",
    "articles=[]\n",
    "text=\"\"\n",
    "title=\"\"\n",
    "titles=[]\n",
    "sources=[]\n",
    "for i in uncleanedarticles:\n",
    "    source,url,title,text = i[0],i[1],i[2],i[3]\n",
    "    sources.append(source)\n",
    "    text = text.replace('\\n\\n','\\n')\n",
    "    if text ==\"\":\n",
    "        continue\n",
    "    if text.count('\\n') <10:\n",
    "        continue\n",
    "    if text.count('https://') >10:\n",
    "        continue   \n",
    "    title = title.strip(' ')\n",
    "    if title in titles:\n",
    "        continue\n",
    "    titles.append(title)\n",
    "    articles.append([source,url,title,text])\n",
    "a.close()"
   ]
  },
  {
   "cell_type": "code",
   "execution_count": 2,
   "metadata": {},
   "outputs": [],
   "source": [
    "from nltk.stem import PorterStemmer\n",
    "from nltk.stem.snowball import SnowballStemmer\n",
    "from nltk.corpus import stopwords\n",
    "ps = SnowballStemmer('english')\n",
    "wordRepArticles =[]\n",
    "idf={}\n",
    "\n",
    "articleslen=[]\n",
    "for i in articles:\n",
    "    title,text = i[2],i[3]\n",
    "    text = text.replace('\\\\','');text = text.replace('.\\n','\\n');text = text.replace('\\n\\n','\\n')\n",
    "    articledist={}\n",
    "    sentencelis=[]\n",
    "    count=0\n",
    "    for i in (text+'\\n'+title).split('\\n'):\n",
    "        if i ==title:\n",
    "            mult =2\n",
    "        else:\n",
    "            mult =1\n",
    "        linedist={}\n",
    "        v = i.split(' ')\n",
    "        if len(v)<4:\n",
    "            continue\n",
    "        for word in v:\n",
    "            if word not in stopwords.words('english'):\n",
    "                word = word.replace('(','');word = word.replace(')','')\n",
    "                word = word.replace('\"','');word = word.replace(',','');word = word.strip(' ')\n",
    "                stemmed = ps.stem(word)\n",
    "                if stemmed in articledist.keys():\n",
    "                    articledist[stemmed]+=mult\n",
    "                else:\n",
    "                    articledist[stemmed]=mult\n",
    "                if stemmed in linedist.keys():\n",
    "                    linedist[stemmed]+=1\n",
    "                else:\n",
    "                    linedist[stemmed]=1\n",
    "            count+=1\n",
    "        sentencelis.append([i,linedist])\n",
    "    for words in articledist.keys():   \n",
    "        if words in idf.keys():\n",
    "            idf[words]+=1\n",
    "        else:\n",
    "            idf[words]=1\n",
    "    wordRepArticles.append([title,articledist,sentencelis])\n",
    "    articleslen.append(count)"
   ]
  },
  {
   "cell_type": "code",
   "execution_count": 3,
   "metadata": {
    "scrolled": true
   },
   "outputs": [
    {
     "name": "stdout",
     "output_type": "stream",
     "text": [
      "2352\n",
      "6198\n"
     ]
    }
   ],
   "source": [
    "# print(len(wordRepArticles))\n",
    "# print(wordRepArticles[0])\n",
    "print(len(articles))\n",
    "print(len(uncleanedarticles))"
   ]
  },
  {
   "cell_type": "code",
   "execution_count": 4,
   "metadata": {
    "scrolled": true
   },
   "outputs": [
    {
     "data": {
      "text/plain": [
       "[['abcnews',\n",
       "  'https://abcnews.go.com/US/reads-monday/story?id=59712958',\n",
       "  'Must reads before Monday',\n",
       "  'One parent\\'s decision to shame his daughter on social media drew mixed responses, Florida is struggling with major toxic algae blooms, the only operating spaceport in the world is crumbling, and eight children affected by Trump\\'s \"zero-tolerance\" border policy are still waiting to be reunited with their families.\\nDon’t miss out on some of ABC News\\' best reporting from this week.\\n\\'What are you trying to prove?\\': Parenting experts weigh in on dad\\'s bullying punishment\\nSTOCK/Getty Images\\nA viral video posted by a father that forced his daughter to walk 5 miles to school in near-freezing temperatures has prompted questions about the use of social media as a way to humiliate and discipline children. Some experts say that shame is not an \"effective way to change behavior.\"\\n\\'When is this going to stop?\\': Florida activist highlights devastating impact of algae blooms on wildlife\\nJoe Raedle/Getty Images, FILE\\nHarmful algae blooms in Florida have been killing off fish, eels and dolphins. Scientists say that these blooms could be exacerbated by a warming and increasingly acidic ocean. Critics say that Gov. Rick Scott\\'s loosening of environmental regulations are part of why algae blooms have been so bad.\\nRussia\\'s crumbling Baikonur spaceport is Earth\\'s only launch pad for manned flights\\nPatrick Reevell/ABC News\\nThis week, a Soyuz rocket carrying three astronauts took off for the International Space Station. It launched from Baikonur, located in Khazakstan, which is currently the only place in the world for these types of space flights. The spaceport reflects Russia\\'s complicated legacy of space flight.\\nDevastated town mourns kidnapped, murdered teen as one of the \\'brightest lights\\'\\nFBI via AP\\nA town is in mourning for 13-year-old Hania Noelia Aguilar, who was kidnapped and murdered in Lumberton, North Carolina. Friends and family spoke at her funeral service on Saturday, which was held at her high school gymnasium. A suspect, Michael Ray McLellan, 34, has been arrested and charged with her murder.\\n8 kids left: The lingering aftermath of Trump\\'s \\'zero-tolerance\\' policy at the border\\nJohn Moore/Getty Images\\nAfter former Attorney General Jeff Sessions\\' April decision to prosecute adults crossing America\\'s southern border illegally, more than 2,600 children were separated from their families. President Trump eventually issued an executive order that put a stop to that practice. Now, eight children who are eligible to be reunited with their families are still waiting to see them.'],\n",
       " ['abcnews',\n",
       "  'https://abcnews.go.com/US/massachusetts-firefighter-dies-battling-huge-blaze/story?id=59711602',\n",
       "  'Worcester firefighter dies while battling huge blaze, the latest in a string of firefighter deaths in city',\n",
       "  'A Worcester, Massachusetts, firefighter died early Sunday while battling a massive fire in a 3-story building, officials said -- the latest in a sad history of firefighter deaths in the city.\\nInterested in Wildfires? Add Wildfires as an interest to stay up to date on the latest Wildfires news, video, and analysis from ABC News. Add Interest\\nFirefighters responded to a fire at 7 Lowell St. in Worcester just before 4 a.m., according to fire officials.\\nWhen conditions deteriorated and the fire went up to five alarms, five firefighters were forced to escape the blaze using ladders, officials said during a news conference Sunday.\\nTwo firefighters were taken to the hospital, but Christopher Roy, 36, succumbed to his injuries, officials said.\\nWCVB\\n“It’s important for us to know and appreciate how incredibly hard the men of the Worcester fire department fought to save Chris’ life, and we know how devastating this is to them,” said Worcester City Manager Edward M. Augustus.\\nThe Worcester Fire Department mourns the line of duty death of FF Christopher Roy who courageously battled a 5 alarm fire on Lowell St. All responding firefighters & crews displayed supreme heroism under extreme conditions. We ask you to keep the family of FF Roy in your thoughts pic.twitter.com/Xs0bOQHGFa — Worcester Fire Dept. (@WorcesterFD) December 9, 2018\\nRoy was assigned to Ladder 4, Group 3, at Webster Square Fire Station. He had been for the department for two and a half years, according to Worcester Fire Chief Michael Lavoie.\\nRoy had an 8-year-old daughter, Ava, and is survived by his mother, Michelle, and his father, Ron, officials said during the news conference.\\n“Firefighter Roy paid the ultimate sacrifice last night, doing what he always wanted to do -- helping people and saving lives,” said Mayor Joseph Petty.\\nThis is not the first time that the Worcester Fire Department has suffered a major loss.\\nSix Worcester firefighters died in a cold storage warehouse fire on Dec. 3, 1999, in a tragedy that became known as the \"Worcester Six.\"\\nThen-President Bill Clinton and Vice President Al Gore joined mourners at the memorial service.\\nOn Dec. 8, 2011, Worcester firefighter John Davies, 43, while responding to a fire when the building he was in collapsed, according to the National Fallen Firefighters Foundation.\\nWCVB\\n\"Once again, December has proven to be the cruelest month of the year for the Worcester Fire Department,\" said Worcester Mayor Joseph Petty at the press conference on Sunday.\\n\"The loss is especially gut-wrenching in the wake of the anniversary of the Worcester Six on Dec. 3, 1999,\" said Augustus. \"Every day, our fire fighters selflessly risk their lives without a second thought.\"'],\n",
       " ['abcnews',\n",
       "  'https://abcnews.go.com/US/wireStory/funeral-baby-jane-doe-found-california-highway-59713818',\n",
       "  \"Funeral for 'Baby Jane Doe' found near California highway\",\n",
       "  'Dozens of people bearing flowers or stuffed animals attended a funeral for a newborn girl found dead last summer along a Southern California highway.\\nAuthorities in Riverside County continue to investigate the death of the baby whose identity remains a mystery.\\nThe service on Thursday was organized in part by police officers and firefighters, the Press-Enterprise reported.\\nJon Castillo, a Corona police chaplain, led the about 70 people in prayer near the tiny, flower-draped casket.\\n\"Every person who walks the planet is born in God\\'s image, and she had inherent value and worth,\" Castillo said.\\nThe girl known as \"Baby Jane Doe\" was discovered on July 27 in a cardboard box near Interstate 15 in Corona, east of Los Angeles. She was wrapped in a t-shirt with stripes and a floral pattern.\\nMonica Montejano was among those who said they felt compelled to show respect for the child.\\n\"I would have held her,\" Montejano told the newspaper. \"I would have loved her.\"\\nLorena Palacios placed a pair of miniature Christmas trees by the casket. She bought one at a grocery store and the other was purchased by a store employee who wanted to contribute.\\n\"It\\'s December, it\\'s Christmas. I have three kids. Every kid wants a tree,\" Palacios said.\\nThe coroner has been unable to identify potential family members through DNA. Officials said detectives are asking for the public\\'s help during the ongoing investigation.\\nAuthorities also emphasized that Corona offers several sites — including police stations, fire stations and hospitals — where parents can give up an infant within 72 hours of birth with no questions asked.\\n———\\nInformation from: The Press-Enterprise, http://www.pe.com']]"
      ]
     },
     "execution_count": 4,
     "metadata": {},
     "output_type": "execute_result"
    }
   ],
   "source": [
    "articles[:3]"
   ]
  },
  {
   "cell_type": "code",
   "execution_count": 5,
   "metadata": {
    "scrolled": true
   },
   "outputs": [],
   "source": [
    "import math\n",
    "n = len(articles)\n",
    "avgArticleLen = sum(articleslen)*1.0/n\n",
    "match = [[0 for i in range(n)] for i in range(n)]\n",
    "for i in range(n):\n",
    "    mainarticle = wordRepArticles[i]\n",
    "    mainlength = articleslen[i]\n",
    "    for j in range(i+1,n):\n",
    "        comparearticle = wordRepArticles[j]\n",
    "        comparelength = articleslen[j]\n",
    "        commonwords = list(set(mainarticle[1].keys()) & set(comparearticle[1].keys())) \n",
    "        value = 0\n",
    "        for word in commonwords:\n",
    "            mainvalue = (1+math.log(mainarticle[1][word]))*1.0/(math.log(1+mainlength/avgArticleLen))\n",
    "            compvalue = (1+math.log(comparearticle[1][word]))*1.0/(math.log(1+comparelength/avgArticleLen))\n",
    "            value += mainvalue*compvalue* math.log(1+n/idf[word])\n",
    "        match[i][j] = value\n",
    "        match[j][i] = value"
   ]
  },
  {
   "cell_type": "code",
   "execution_count": 6,
   "metadata": {
    "scrolled": true
   },
   "outputs": [
    {
     "name": "stdout",
     "output_type": "stream",
     "text": [
      "Main title: Must reads before Monday\n",
      "0/3: Father denied visa for slain daughter's funeral as suspect charged with rape, murder\n",
      "1/3: Man accused of killing 13-year-old Hania Aguilar could face death penalty if convicted\n",
      "2/3: FBI: Man arrested in death of North Carolina teenager\n",
      "Main title: Worcester firefighter dies while battling huge blaze, the latest in a string of firefighter deaths in city\n",
      "0/3: Chief identifies firefighter who died after becoming trapped in five-alarm Worcester fire\n",
      "1/3: 5 children under age of 10 die in Ohio house fire\n",
      "2/3: California marks 1 month since deadly wildfires ripped through state\n",
      "Main title: Funeral for 'Baby Jane Doe' found near California highway\n",
      "0/3: Parents charged in 10-month-old daughter's overdose death\n",
      "1/3: Texas Daycare Worker Accused of Breaking Baby’s Bones\n",
      "2/3: Boyfriend allegedly kills girlfriend and her 17-year-old daughter: Sheriff\n",
      "Main title: Amazon touted as big win for NY, but math is more complex\n",
      "Main title: Qatar emir skips Saudi-hosted Gulf summit amid boycott\n",
      "0/3: Gulf divisions widen as Qatar accused of 'snubbing' meeting\n",
      "1/3: Qatar Withdraws from Saudi Arabia-Led OPEC\n",
      "2/3: Yemen peace talks in Sweden focus on prisoner swap deal\n",
      "Main title: Cory Booker will decide whether to run for president 'over the holidays'\n",
      "0/3: The View: Michael Bloomberg takes GOP, Trump to task\n",
      "1/3: The Note: Robert Mueller presents new political peril for President Donald Trump\n",
      "2/3: 2020 Democratic primary: California and Texas look to become the new Iowa and New Hampshire\n",
      "Main title: Donald Trump directed Michael Cohen to make hush money payments during 2016 campaign, federal prosecutors allege in court filings\n",
      "0/3: Chris Christie: President Trump 'not totally clear' until special counsel Robert Mueller 'hands in the keys'\n",
      "1/3: Prosecutors Paint Michael Cohen as a Liar – But Rely on Him for Anti-Trump Charges\n",
      "2/3: Donald Trump denies wrongdoing amid accusations from prosecutors in Russia probe\n",
      "Main title: Robert Mueller is hiding in Eric Trump's closet on 'SNL'\n",
      "0/3: 'SNL': Robert De Niro is hiding in Eric Trump's closet as boogeyman Robert Mueller\n",
      "1/3: Robert De Niro's Mueller returns to 'SNL'\n",
      "2/3: 'SNL': Jason Momoa resurrects his 'Game of Thrones' character, Khal Drogo\n",
      "Main title: North Carolina, Virginia hit by 'mammoth' winter storm, hours of snow and ice still to come\n",
      "0/3: Winter Storm Sweeps South: 300,000+ No Power, 1,500 Canceled Flights\n",
      "1/3: 'Nightmare and a tragedy': Massive snowstorm leaves at least 2 dead in North Carolina as Southeast digs out\n",
      "2/3: Storm slams South with heavy snow, power outages as over 1,000 flights canceled out of Charlotte\n",
      "Main title: China summons US envoy to protest detention of Huawei exec\n",
      "0/3: China, protesting Huawei executive's detention, says it summoned US ambassador\n",
      "1/3: China warns of \"grave consequences\" if Huawei executive isn't released\n",
      "2/3: China summons U.S. ambassador, warns Canada of 'grave consequences' if Huawei executive Meng Wanzhou is not released\n",
      "Main title: Pence's chief of staff will not take over White House role after John Kelly leaves\n",
      "0/3: Trump says chief of staff John Kelly will leave at the end of the year\n",
      "1/3: Nick Ayers out as candidate to become President Donald Trump's next chief of staff\n",
      "2/3: President Trump scrambles for next chief of staff with John Kelly set to depart\n",
      "Main title: Trump says chief of staff John Kelly will leave at the end of the year\n",
      "0/3: Pence's chief of staff will not take over White House role after John Kelly leaves\n",
      "1/3: Trump says John Kelly to leave chief of staff role by year end\n",
      "2/3: Amid reports of John Kelly departure, Donald Trump team signals coming staff announcement\n",
      "Main title: Chris Christie: President Trump 'not totally clear' until special counsel Robert Mueller 'hands in the keys'\n",
      "0/3: Mueller says Michael Cohen helped special counsel's probe\n",
      "1/3: Dershowitz: Cohen's Harsh Sentencing Recommendation 'Doesn't Sound Like Good News for Mueller'\n",
      "2/3: Russia-related cases: Your guide to this week's action on Michael Cohen, Paul Manafort and Maria Butina\n",
      "Main title: Search for missing Colorado mother intensifies\n",
      "0/3: Search for missing Colorado mother Kelsey Berreth intensifies\n",
      "1/3: Boyfriend allegedly kills girlfriend and her 17-year-old daughter: Sheriff\n",
      "2/3: FBI: Man arrested in death of North Carolina teenager\n",
      "Main title: Mother, brother of double murder suspect arrested for alleged plot to kill witnesses\n",
      "0/3: New Jersey mansion murders spur calls for state to reinstate death penalty\n",
      "1/3: Man accused of killing 13-year-old Hania Aguilar could face death penalty if convicted\n",
      "2/3: Man accused of plotting attack against Ohio synagogue was inspired by Pittsburgh massacre: Officials\n",
      "Main title: Leading a double life: While appearing as a family man, Chris Watts wrote love letters to another woman before murdering wife, 2 daughters\n",
      "Main title: FBI agent hospitalized after being shot in New York; 2 suspects in custody\n",
      "0/3: Chaotic Sweden: Multiple Explosions, Hospital Shooting in Just 12 Hours\n",
      "1/3: 5 children under age of 10 die in Ohio house fire\n",
      "2/3: Border Patrol Agent Assaulted by Drug Smuggler at Canadian Border\n",
      "Main title: Caregivers for 3,600 migrant teens lack complete abuse checks\n",
      "Main title: Trump resort worker: No regrets speaking out about abuse\n",
      "0/3: Undocumented housekeeper at Trump golf course says she does not regret going public\n",
      "1/3: NYT Admits Trump Hotels Tightened Policy Against Hiring Illegals in 2015\n",
      "Main title: Pardoning Paul Manafort would be 'terrible mistake,' could 'trigger a debate' about pardon power: Sen. Marco Rubio\n",
      "0/3: Paul Manafort lied about contact with administration officials: Special counsel\n",
      "1/3: 'No one should be above the law': Rubio warns Manafort pardon would be 'terrible mistake'\n",
      "2/3: Chris Christie: President Trump 'not totally clear' until special counsel Robert Mueller 'hands in the keys'\n",
      "Main title: Sen. Chris Murphy: Mueller probe now 'beyond the stage' of Clinton impeachment\n",
      "0/3: Dem Sen. Murphy: Trump ‘Has Now Stepped Into the Same Territory’ that Ultimately Led to Nixon Resign\n",
      "1/3: Chris Christie: President Trump 'not totally clear' until special counsel Robert Mueller 'hands in the keys'\n",
      "2/3: Michael Cohen filings renew discussion of Trump's impeachment\n",
      "Main title: Comey: FBI probe of Russia initially looked at 4 Americans\n",
      "0/3: Trump blasts 'Leakin' James Comey' following former FBI chief's testimony on Capitol Hill\n",
      "1/3: James Comey: Russia investigation started with four Americans with ties to Trump, Russia\n",
      "2/3: FBI investigated four Americans on Russia collusion suspicions: Comey\n",
      "Main title: Paul Manafort lied about contact with administration officials: Special counsel\n",
      "0/3: Mueller to release new details on ex-Trump aides Manafort, Cohen\n",
      "1/3: Russia-related cases: Your guide to this week's action on Michael Cohen, Paul Manafort and Maria Butina\n",
      "2/3: Mueller court filing details how Manafort allegedly lied to the government\n",
      "Main title: Fact Check Friday: Trump's tariff-ically false claims and more\n",
      "0/3: Paris protests continue for third weekend despite Macron conceding to original demands\n",
      "1/3: Trump: Paris Climate Accord ‘Isn’t Working Out So Well For Paris’ As Riots Engulf City\n",
      "2/3: Donald Trump Demands ‘REAL DEAL’ with China Despite Shaken Stock Market\n",
      "Main title: Mia Love says 'it wasn't my job' to be in 'lockstep' with Trump\n",
      "0/3: Mia Love slams Trump, says GOP paid price for not letting minorities 'into their hearts'\n",
      "1/3: Trump's proclamation comes true: Rep. Mia Love loses re-election bid in Utah\n",
      "2/3: California Democrat takes vote lead after trailing 7 points on election night\n",
      "Main title: Trump nominates Army Gen. Mark Milley as next chairman of the Joint Chiefs of Staff\n",
      "0/3: Donald Trump makes it official: Gen. Mark Milley to chair Joint Chiefs of Staff\n",
      "1/3: Trump to nominate Milley as next chairman of Joint Chiefs\n",
      "2/3: President Trump Confirms John Kelly Out as White House Chief of Staff\n",
      "Main title: Everything you need to know about John Kelly, Trump's chief of staff\n",
      "0/3: Trump says chief of staff John Kelly will leave at the end of the year\n",
      "1/3: Trump says John Kelly to leave chief of staff role by year end\n",
      "2/3: Pence's chief of staff will not take over White House role after John Kelly leaves\n",
      "Main title: Trump announces he'll nominate William Barr as next attorney general\n",
      "0/3: Trump will nominate William Barr as next attorney general\n",
      "1/3: 'Go Back & Read It': Rove, Juan Williams Spar Over Potential New AG's Bush Ties, Mueller Remarks\n",
      "2/3: Trump confirms he will nominate William Barr to be attorney general\n",
      "Main title: Oldest wild seabird lays another egg on Midway Atoll\n",
      "0/3: The most remote fine dining experience in the world?\n",
      "1/3: The world's most scenic flight?\n",
      "2/3: World's vertebrate population dropped by an average of 60 percent since 1970, WWF says\n",
      "Main title: At scene of South Sudan mass rape, 'no one could hear me'\n",
      "Main title: Evers not optimistic Wisconsin Gov. Walker will veto bills\n",
      "0/3: Wisconsin legislature speaker: Skip the outrage. We’re doing our job.\n",
      "1/3: Emily Mills Republicans' power grab in Wisconsin is more evidence the party doesn't care about the will of the voters\n",
      "2/3: Lame-duck GOP power grabs show contempt for voters\n",
      "Main title: Yemen peace talks in Sweden focus on prisoner swap deal\n",
      "0/3: U.N. says average of 123 civilians killed or wounded each week in Yemen\n",
      "1/3: Mom in Yemen with malnourished 5-month-old tells her story\n",
      "2/3: Yemen's prime minister says U.S. can help end humanitarian crisis\n",
      "Main title: Paris protests continue for third weekend despite Macron conceding to original demands\n",
      "0/3: Trump: Paris Climate Accord ‘Isn’t Working Out So Well For Paris’ As Riots Engulf City\n",
      "1/3: Trump on France Chaos: 'End Paris Agreement, Return Money to People'\n",
      "2/3: Who are France's 'Yellow Jacket' protesters and what do they want?\n",
      "Main title: Russia's crumbling Baikonur spaceport is Earth's only launch pad for manned flights\n",
      "0/3: Weeks after scary mishap, Soyuz rocket to launch spaceflyers to space station\n",
      "1/3: Must reads before Monday\n",
      "2/3: Astronaut Nick Hague is 'ready to go' again after failed launch to space station\n",
      "Main title: What does Martian wind sound like? Now we know\n",
      "0/3: NASA's InSight lander captures first 'sounds' of wind on Mars\n",
      "1/3: In space first, China launches lunar rover to far side of the moon\n",
      "2/3: Meet the engineer behind NASA's robotic arm for Mars\n",
      "Main title: Astronaut Nick Hague is 'ready to go' again after failed launch to space station\n",
      "0/3: Weeks after scary mishap, Soyuz rocket to launch spaceflyers to space station\n",
      "1/3: Astronaut Nick Hague describes \"violent shaking\" during failed Soyuz rocket launch\n",
      "2/3: SpaceX launches cargo ship to space station, but Falcon 9 rocket misses landing site\n",
      "Main title: After marijuana edibles helped dying Holocaust survivor battle Alzheimer's, his family's foundation pushes for more research\n",
      "0/3: Even without proof, CBD is finding a niche as a cure-all\n",
      "Main title: ATF investigating 5th fire at Jehovah's Witness centers in Washington this year\n",
      "0/3: Chaotic Sweden: Multiple Explosions, Hospital Shooting in Just 12 Hours\n",
      "Main title: Former Miss Kentucky admits she sent topless photos to young boy: Officials\n",
      "0/3: Ex-Miss Kentucky charged with sending nude photos via Snapchat to student\n",
      "1/3: Science Teacher Accused of Sending Nudes to 15-Year-Old\n",
      "2/3: Boyfriend allegedly kills girlfriend and her 17-year-old daughter: Sheriff\n",
      "Main title: Devastated town mourns kidnapped, murdered teen as one of the 'brightest lights'\n",
      "0/3: Man accused of killing 13-year-old Hania Aguilar could face death penalty if convicted\n",
      "1/3: Father denied visa for slain daughter's funeral as suspect charged with rape, murder\n",
      "2/3: FBI: Man arrested in death of North Carolina teenager\n",
      "Main title: Battle of wills: Tiny order of French nuns takes on Vatican\n",
      "Main title: Huawei executive Meng Wanzhou will remain in jail as Canadian court outlines case against her\n",
      "0/3: Huawei CFO facing US extradition appears in Canadian court\n",
      "1/3: Canadian Prosecutors Accuse Huawei CFO Meng of Fraud Aimed at Evading Iran Sanctions\n",
      "2/3: China warns of \"grave consequences\" if Huawei executive isn't released\n",
      "Main title: Homeless and selfless: Man gives jaw-dropping gift back to food bank that feeds him\n",
      "Main title: NYPD accused of 'shackling' pregnant woman in labor, lawsuit claims\n",
      "Main title: Hunger, lice, filth: Moroccan camp shows migrant challenges\n",
      "0/3: Nearly 85 percent of UN nations back migration deal; not US\n",
      "1/3: Dutch Leader Slams \"Suicidal\" UN Migration Deal\n",
      "2/3: Germany and France: Accept Migrants or Pay Up\n",
      "Main title: California marks 1 month since deadly wildfires ripped through state\n",
      "0/3: Homeowner returns one month after Camp Fire, finds her dog waiting for her at her house\n",
      "1/3: Man survives deadly California wildfire by hiding in creek with his dog\n",
      "2/3: A dog stands guard outside his owner's California home for almost a month after the Camp Fire\n",
      "Main title: 5 natural disasters that devastated the US in 2018\n",
      "0/3: California marks 1 month since deadly wildfires ripped through state\n",
      "1/3: 'Nightmare and a tragedy': Massive snowstorm leaves at least 2 dead in North Carolina as Southeast digs out\n",
      "2/3: Family of 12 struggling to find shelter more than a week after Hurricane Michael\n",
      "Main title: 'What are you trying to prove?': Parenting experts weigh in on dad's bullying punishment\n",
      "0/3: Dad makes daughter walk to school as punishment for bullying other students on her bus\n",
      "Main title: 13-year-old student with autism dies after being physically restrained at school\n",
      "0/3: Boyfriend allegedly kills girlfriend and her 17-year-old daughter: Sheriff\n",
      "1/3: Ex-Miss Kentucky charged with sending nude photos via Snapchat to student\n",
      "2/3: Teacher Jailed After Forcibly Cutting Student’s Hair While Singing\n",
      "Main title: Parents charged in 10-month-old daughter's overdose death\n",
      "0/3: Funeral for 'Baby Jane Doe' found near California highway\n",
      "1/3: BAPD release disturbing new details on Broken Arrow homicide\n"
     ]
    }
   ],
   "source": [
    "topmatches = [[] for i in range(n)]\n",
    "matches = 3\n",
    "for i in range(n):\n",
    "    vals = [[match[i][j],j] for j in range(n)]\n",
    "    toparticle = sorted(vals,reverse=True)[:matches]\n",
    "    if i<50:\n",
    "        print(\"Main title: \"+ articles[i][2])\n",
    "    for j in range(matches):\n",
    "        if toparticle[j][0] > 1000:\n",
    "            topmatches[i].append(toparticle[j])\n",
    "            if i<50:\n",
    "                print(str(j)+\"/\" + str(matches)+ \": \" + articles[toparticle[j][1]][2])\n",
    "matchvalues =[]\n",
    "for i in topmatches:\n",
    "    for j in i:\n",
    "        matchvalues.append(j[0])        "
   ]
  },
  {
   "cell_type": "code",
   "execution_count": 7,
   "metadata": {},
   "outputs": [
    {
     "name": "stdout",
     "output_type": "stream",
     "text": [
      "972.2436224489796\n"
     ]
    }
   ],
   "source": [
    "print(avgArticleLen)"
   ]
  },
  {
   "cell_type": "code",
   "execution_count": 8,
   "metadata": {
    "scrolled": true
   },
   "outputs": [],
   "source": [
    "sentmatch = []\n",
    "for i in range(n):\n",
    "    mainarticle = wordRepArticles[i]\n",
    "    rep=[]\n",
    "    for j in range(len(topmatches[i])):\n",
    "        comparearticle = wordRepArticles[topmatches[i][j][1]]\n",
    "        bestmatchSentence =[]\n",
    "        for k in range(len(mainarticle[2])):\n",
    "            val = -1\n",
    "            ind = 0\n",
    "            msentence = mainarticle[2][k][1]\n",
    "            mainlength = len(mainarticle[2][k][0].split(' '))\n",
    "            for l in range(len(comparearticle[2])):\n",
    "                csentence = comparearticle[2][l][1]\n",
    "                comparelength = len(comparearticle[2][l][0].split(' '))\n",
    "                commonwords = list(set(msentence.keys()) & set(csentence.keys()))\n",
    "                if len(commonwords)<=3:\n",
    "                    continue\n",
    "                value = 0\n",
    "                for word in commonwords:\n",
    "                    mainvalue = (1+math.log(msentence[word]))*1.0/(math.log(1+mainlength/avgArticleLen))\n",
    "                    compvalue = (1+math.log(csentence[word]))*1.0/(math.log(1+comparelength/avgArticleLen))\n",
    "                    value += mainvalue*compvalue* math.log(1+n/idf[word])\n",
    "                if value>val:\n",
    "                    val = value\n",
    "                    ind = l\n",
    "            bestmatchSentence.append([ind,val,comparearticle[2][ind][0]])\n",
    "        rep.append(bestmatchSentence)\n",
    "    sentmatch.append(rep)"
   ]
  },
  {
   "cell_type": "code",
   "execution_count": 22,
   "metadata": {
    "scrolled": true
   },
   "outputs": [],
   "source": [
    "from vaderSentiment.vaderSentiment import SentimentIntensityAnalyzer\n",
    "analyzer = SentimentIntensityAnalyzer() \n",
    "\n",
    "sources = list(set(sources))\n",
    "\n",
    "reliability = [9.9 for i in range(len(sources))]\n",
    "articleaggreeement=[]\n",
    "for i in range(n):\n",
    "    articleval =0\n",
    "    mainarticle = wordRepArticles[i]\n",
    "    actualarticlecount=len(topmatches[i])\n",
    "    for j in range(len(topmatches[i])):\n",
    "        val=0\n",
    "        sentcount =0 \n",
    "        comparticle=wordRepArticles[topmatches[i][j][1]]\n",
    "        for k in range(len(mainarticle[2])):\n",
    "            sent1 = analyzer.polarity_scores(mainarticle[2][k][0])['compound']\n",
    "            if sentmatch[i][j][k][1]==-1:\n",
    "                continue\n",
    "            sent2 = analyzer.polarity_scores(sentmatch[i][j][k][2])['compound']\n",
    "            if (sent1 >0.05 and sent2 >0.05) or (sent1 <-0.05 and sent2 <-0.05) or (sent1 <0.05 and sent2 <0.05 and sent1 >-0.05 and sent2 >-0.05):\n",
    "                val +=1\n",
    "            sentcount+=1\n",
    "        if sentcount > 0.5*len(mainarticle[2]):\n",
    "#             print(val,sentcount)\n",
    "            val = val*1.0/sentcount\n",
    "#             print(val)\n",
    "            topmatches[i][j][0] = val*100\n",
    "#             print(topmatches[i][j][0])\n",
    "            articleval +=val*reliability[sources.index(articles[topmatches[i][j][1]][0])]\n",
    "#             print(articleval)\n",
    "        else:\n",
    "            topmatches[i][j][0] = -1\n",
    "            actualarticlecount-=1\n",
    "    if actualarticlecount==0 :\n",
    "        articleaggreeement.append(0)\n",
    "        articles[i].append(0)\n",
    "    else:\n",
    "        articleaggreeement.append(articleval/actualarticlecount)\n",
    "        articles[i].append(articleval/actualarticlecount)\n",
    "\n",
    "for i in range(n):\n",
    "    articles[i][0] = sources.index(articles[i][0])\n",
    "    articles[i].append(i)"
   ]
  },
  {
   "cell_type": "code",
   "execution_count": 23,
   "metadata": {
    "scrolled": true
   },
   "outputs": [
    {
     "name": "stdout",
     "output_type": "stream",
     "text": [
      "[[18, 'https://abcnews.go.com/US/reads-monday/story?id=59712958', 'Must reads before Monday', 'One parent\\'s decision to shame his daughter on social media drew mixed responses, Florida is struggling with major toxic algae blooms, the only operating spaceport in the world is crumbling, and eight children affected by Trump\\'s \"zero-tolerance\" border policy are still waiting to be reunited with their families.\\nDon’t miss out on some of ABC News\\' best reporting from this week.\\n\\'What are you trying to prove?\\': Parenting experts weigh in on dad\\'s bullying punishment\\nSTOCK/Getty Images\\nA viral video posted by a father that forced his daughter to walk 5 miles to school in near-freezing temperatures has prompted questions about the use of social media as a way to humiliate and discipline children. Some experts say that shame is not an \"effective way to change behavior.\"\\n\\'When is this going to stop?\\': Florida activist highlights devastating impact of algae blooms on wildlife\\nJoe Raedle/Getty Images, FILE\\nHarmful algae blooms in Florida have been killing off fish, eels and dolphins. Scientists say that these blooms could be exacerbated by a warming and increasingly acidic ocean. Critics say that Gov. Rick Scott\\'s loosening of environmental regulations are part of why algae blooms have been so bad.\\nRussia\\'s crumbling Baikonur spaceport is Earth\\'s only launch pad for manned flights\\nPatrick Reevell/ABC News\\nThis week, a Soyuz rocket carrying three astronauts took off for the International Space Station. It launched from Baikonur, located in Khazakstan, which is currently the only place in the world for these types of space flights. The spaceport reflects Russia\\'s complicated legacy of space flight.\\nDevastated town mourns kidnapped, murdered teen as one of the \\'brightest lights\\'\\nFBI via AP\\nA town is in mourning for 13-year-old Hania Noelia Aguilar, who was kidnapped and murdered in Lumberton, North Carolina. Friends and family spoke at her funeral service on Saturday, which was held at her high school gymnasium. A suspect, Michael Ray McLellan, 34, has been arrested and charged with her murder.\\n8 kids left: The lingering aftermath of Trump\\'s \\'zero-tolerance\\' policy at the border\\nJohn Moore/Getty Images\\nAfter former Attorney General Jeff Sessions\\' April decision to prosecute adults crossing America\\'s southern border illegally, more than 2,600 children were separated from their families. President Trump eventually issued an executive order that put a stop to that practice. Now, eight children who are eligible to be reunited with their families are still waiting to see them.', 0, 0, 0], [18, 'https://abcnews.go.com/US/massachusetts-firefighter-dies-battling-huge-blaze/story?id=59711602', 'Worcester firefighter dies while battling huge blaze, the latest in a string of firefighter deaths in city', 'A Worcester, Massachusetts, firefighter died early Sunday while battling a massive fire in a 3-story building, officials said -- the latest in a sad history of firefighter deaths in the city.\\nInterested in Wildfires? Add Wildfires as an interest to stay up to date on the latest Wildfires news, video, and analysis from ABC News. Add Interest\\nFirefighters responded to a fire at 7 Lowell St. in Worcester just before 4 a.m., according to fire officials.\\nWhen conditions deteriorated and the fire went up to five alarms, five firefighters were forced to escape the blaze using ladders, officials said during a news conference Sunday.\\nTwo firefighters were taken to the hospital, but Christopher Roy, 36, succumbed to his injuries, officials said.\\nWCVB\\n“It’s important for us to know and appreciate how incredibly hard the men of the Worcester fire department fought to save Chris’ life, and we know how devastating this is to them,” said Worcester City Manager Edward M. Augustus.\\nThe Worcester Fire Department mourns the line of duty death of FF Christopher Roy who courageously battled a 5 alarm fire on Lowell St. All responding firefighters & crews displayed supreme heroism under extreme conditions. We ask you to keep the family of FF Roy in your thoughts pic.twitter.com/Xs0bOQHGFa — Worcester Fire Dept. (@WorcesterFD) December 9, 2018\\nRoy was assigned to Ladder 4, Group 3, at Webster Square Fire Station. He had been for the department for two and a half years, according to Worcester Fire Chief Michael Lavoie.\\nRoy had an 8-year-old daughter, Ava, and is survived by his mother, Michelle, and his father, Ron, officials said during the news conference.\\n“Firefighter Roy paid the ultimate sacrifice last night, doing what he always wanted to do -- helping people and saving lives,” said Mayor Joseph Petty.\\nThis is not the first time that the Worcester Fire Department has suffered a major loss.\\nSix Worcester firefighters died in a cold storage warehouse fire on Dec. 3, 1999, in a tragedy that became known as the \"Worcester Six.\"\\nThen-President Bill Clinton and Vice President Al Gore joined mourners at the memorial service.\\nOn Dec. 8, 2011, Worcester firefighter John Davies, 43, while responding to a fire when the building he was in collapsed, according to the National Fallen Firefighters Foundation.\\nWCVB\\n\"Once again, December has proven to be the cruelest month of the year for the Worcester Fire Department,\" said Worcester Mayor Joseph Petty at the press conference on Sunday.\\n\"The loss is especially gut-wrenching in the wake of the anniversary of the Worcester Six on Dec. 3, 1999,\" said Augustus. \"Every day, our fire fighters selflessly risk their lives without a second thought.\"', 7.2, 7.2, 1]]\n",
      "[[[-1, 400], [-1, 2152], [-1, 881]], [[72.72727272727273, 1114], [-1, 2156], [-1, 45]]]\n"
     ]
    }
   ],
   "source": [
    "print(articles[:2])\n",
    "print(topmatches[:2])"
   ]
  },
  {
   "cell_type": "code",
   "execution_count": 24,
   "metadata": {},
   "outputs": [
    {
     "name": "stdout",
     "output_type": "stream",
     "text": [
      "[0, 'cnn', 9.9]\n"
     ]
    }
   ],
   "source": [
    "sourcerelia=[]\n",
    "for i in range(len(sources)):\n",
    "    sourcerelia.append([i,sources[i],reliability[i]])\n",
    "fileObject = open('./mysite/sourcereliability.pickle','wb')\n",
    "pickle.dump(sourcerelia,fileObject)\n",
    "fileObject.close()\n",
    "print(sourcerelia[0])"
   ]
  },
  {
   "cell_type": "code",
   "execution_count": 31,
   "metadata": {},
   "outputs": [],
   "source": [
    "articlesimilarity=[]\n",
    "for i in range(n):\n",
    "    for j in range(len(topmatches[i])):\n",
    "        if topmatches[i][j][0]==-1:\n",
    "            continue\n",
    "#         articlesimilarity.append([articles[i][2],articles[topmatches[i][j][1]][2]])\n",
    "        articlesimilarity.append([i,topmatches[i][j][1],topmatches[i][j][0]])\n",
    "fileObject = open('./mysite/articlessimilarity.pickle','wb')\n",
    "pickle.dump(articlesimilarity,fileObject)\n",
    "fileObject.close()"
   ]
  },
  {
   "cell_type": "code",
   "execution_count": 32,
   "metadata": {},
   "outputs": [
    {
     "name": "stdout",
     "output_type": "stream",
     "text": [
      "[1, 1114, 72.72727272727273]\n"
     ]
    }
   ],
   "source": [
    "print(articlesimilarity[0])"
   ]
  },
  {
   "cell_type": "code",
   "execution_count": 33,
   "metadata": {},
   "outputs": [],
   "source": [
    "fileObject = open('./mysite/cleanedarticles.pickle','wb')\n",
    "pickle.dump(articles,fileObject)\n",
    "fileObject.close()"
   ]
  },
  {
   "cell_type": "code",
   "execution_count": 28,
   "metadata": {},
   "outputs": [],
   "source": [
    "# max([i[0] for i in articles])"
   ]
  },
  {
   "cell_type": "code",
   "execution_count": 29,
   "metadata": {},
   "outputs": [],
   "source": [
    "matchvalues =[]\n",
    "for i in topmatches:\n",
    "    for j in i:\n",
    "        matchvalues.append(j[0])"
   ]
  },
  {
   "cell_type": "code",
   "execution_count": null,
   "metadata": {
    "scrolled": false
   },
   "outputs": [],
   "source": [
    "n = len(articles)\n",
    "import numpy as np\n",
    "import matplotlib.pyplot as plt\n",
    "print(max(matchvalues),min(matchvalues))\n",
    "# cleanval = list(filter(lambda a: a > 1000, matchvalues))\n",
    "print(len(cleanval),n*3)\n",
    "_, bins, patches = plt.hist(matchvalues, 10, facecolor='g')\n",
    "plt.show()"
   ]
  },
  {
   "cell_type": "code",
   "execution_count": null,
   "metadata": {
    "scrolled": true
   },
   "outputs": [],
   "source": [
    "print(matchvalues)"
   ]
  },
  {
   "cell_type": "code",
   "execution_count": null,
   "metadata": {},
   "outputs": [],
   "source": []
  }
 ],
 "metadata": {
  "kernelspec": {
   "display_name": "Python 3",
   "language": "python",
   "name": "python3"
  },
  "language_info": {
   "codemirror_mode": {
    "name": "ipython",
    "version": 3
   },
   "file_extension": ".py",
   "mimetype": "text/x-python",
   "name": "python",
   "nbconvert_exporter": "python",
   "pygments_lexer": "ipython3",
   "version": "3.7.1"
  }
 },
 "nbformat": 4,
 "nbformat_minor": 2
}
