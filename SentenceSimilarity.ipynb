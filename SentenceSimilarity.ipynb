{
 "cells": [
  {
   "cell_type": "code",
   "execution_count": 12,
   "metadata": {
    "scrolled": true
   },
   "outputs": [],
   "source": [
    "import pickle\n",
    "a = open(\"Articles.pickle\",'rb')\n",
    "uncleanedarticles = pickle.load(a)\n",
    "articles=[]\n",
    "text=\"\"\n",
    "title=\"\"\n",
    "titles=[]\n",
    "sources=[]\n",
    "for i in uncleanedarticles:\n",
    "    source,url,title,text = i[0],i[1],i[2],i[3]\n",
    "    sources.append(source)\n",
    "    text = text.replace('\\n\\n','\\n')\n",
    "    if text ==\"\":\n",
    "        continue\n",
    "    if text.count('\\n') <10:\n",
    "        continue\n",
    "    if text.count('https://') >10:\n",
    "        continue   \n",
    "    title = title.strip(' ')\n",
    "    if title in titles:\n",
    "        continue\n",
    "    titles.append(title)\n",
    "    articles.append([source,url,title,text])\n",
    "a.close()"
   ]
  },
  {
   "cell_type": "code",
   "execution_count": 2,
   "metadata": {},
   "outputs": [],
   "source": [
    "from nltk.stem import PorterStemmer\n",
    "from nltk.stem.snowball import SnowballStemmer\n",
    "from nltk.corpus import stopwords\n",
    "ps = SnowballStemmer('english')\n",
    "wordRepArticles =[]\n",
    "idf={}\n",
    "\n",
    "articleslen=[]\n",
    "for i in articles:\n",
    "    title,text = i[2],i[3]\n",
    "    text = text.replace('\\\\','');text = text.replace('.\\n','\\n');text = text.replace('\\n\\n','\\n')\n",
    "    articledist={}\n",
    "    sentencelis=[]\n",
    "    count=0\n",
    "    for i in (text+'\\n'+title).split('\\n'):\n",
    "        if i ==title:\n",
    "            mult =2\n",
    "        else:\n",
    "            mult =1\n",
    "        linedist={}\n",
    "        v = i.split(' ')\n",
    "        if len(v)<4:\n",
    "            continue\n",
    "        for word in v:\n",
    "            if word not in stopwords.words('english'):\n",
    "                word = word.replace('(','');word = word.replace(')','')\n",
    "                word = word.replace('\"','');word = word.replace(',','');word = word.strip(' ')\n",
    "                stemmed = ps.stem(word)\n",
    "                if stemmed in articledist.keys():\n",
    "                    articledist[stemmed]+=mult\n",
    "                else:\n",
    "                    articledist[stemmed]=mult\n",
    "                if stemmed in linedist.keys():\n",
    "                    linedist[stemmed]+=1\n",
    "                else:\n",
    "                    linedist[stemmed]=1\n",
    "            count+=1\n",
    "        sentencelis.append([i,linedist])\n",
    "    for words in articledist.keys():   \n",
    "        if words in idf.keys():\n",
    "            idf[words]+=1\n",
    "        else:\n",
    "            idf[words]=1\n",
    "    wordRepArticles.append([title,articledist,sentencelis])\n",
    "    articleslen.append(count)"
   ]
  },
  {
   "cell_type": "code",
   "execution_count": 3,
   "metadata": {
    "scrolled": true
   },
   "outputs": [
    {
     "name": "stdout",
     "output_type": "stream",
     "text": [
      "2352\n",
      "6198\n"
     ]
    }
   ],
   "source": [
    "# print(len(wordRepArticles))\n",
    "# print(wordRepArticles[0])\n",
    "print(len(articles))\n",
    "print(len(uncleanedarticles))"
   ]
  },
  {
   "cell_type": "code",
   "execution_count": 4,
   "metadata": {
    "scrolled": true
   },
   "outputs": [
    {
     "data": {
      "text/plain": [
       "[['abcnews',\n",
       "  'https://abcnews.go.com/US/reads-monday/story?id=59712958',\n",
       "  'Must reads before Monday',\n",
       "  'One parent\\'s decision to shame his daughter on social media drew mixed responses, Florida is struggling with major toxic algae blooms, the only operating spaceport in the world is crumbling, and eight children affected by Trump\\'s \"zero-tolerance\" border policy are still waiting to be reunited with their families.\\nDon’t miss out on some of ABC News\\' best reporting from this week.\\n\\'What are you trying to prove?\\': Parenting experts weigh in on dad\\'s bullying punishment\\nSTOCK/Getty Images\\nA viral video posted by a father that forced his daughter to walk 5 miles to school in near-freezing temperatures has prompted questions about the use of social media as a way to humiliate and discipline children. Some experts say that shame is not an \"effective way to change behavior.\"\\n\\'When is this going to stop?\\': Florida activist highlights devastating impact of algae blooms on wildlife\\nJoe Raedle/Getty Images, FILE\\nHarmful algae blooms in Florida have been killing off fish, eels and dolphins. Scientists say that these blooms could be exacerbated by a warming and increasingly acidic ocean. Critics say that Gov. Rick Scott\\'s loosening of environmental regulations are part of why algae blooms have been so bad.\\nRussia\\'s crumbling Baikonur spaceport is Earth\\'s only launch pad for manned flights\\nPatrick Reevell/ABC News\\nThis week, a Soyuz rocket carrying three astronauts took off for the International Space Station. It launched from Baikonur, located in Khazakstan, which is currently the only place in the world for these types of space flights. The spaceport reflects Russia\\'s complicated legacy of space flight.\\nDevastated town mourns kidnapped, murdered teen as one of the \\'brightest lights\\'\\nFBI via AP\\nA town is in mourning for 13-year-old Hania Noelia Aguilar, who was kidnapped and murdered in Lumberton, North Carolina. Friends and family spoke at her funeral service on Saturday, which was held at her high school gymnasium. A suspect, Michael Ray McLellan, 34, has been arrested and charged with her murder.\\n8 kids left: The lingering aftermath of Trump\\'s \\'zero-tolerance\\' policy at the border\\nJohn Moore/Getty Images\\nAfter former Attorney General Jeff Sessions\\' April decision to prosecute adults crossing America\\'s southern border illegally, more than 2,600 children were separated from their families. President Trump eventually issued an executive order that put a stop to that practice. Now, eight children who are eligible to be reunited with their families are still waiting to see them.'],\n",
       " ['abcnews',\n",
       "  'https://abcnews.go.com/US/massachusetts-firefighter-dies-battling-huge-blaze/story?id=59711602',\n",
       "  'Worcester firefighter dies while battling huge blaze, the latest in a string of firefighter deaths in city',\n",
       "  'A Worcester, Massachusetts, firefighter died early Sunday while battling a massive fire in a 3-story building, officials said -- the latest in a sad history of firefighter deaths in the city.\\nInterested in Wildfires? Add Wildfires as an interest to stay up to date on the latest Wildfires news, video, and analysis from ABC News. Add Interest\\nFirefighters responded to a fire at 7 Lowell St. in Worcester just before 4 a.m., according to fire officials.\\nWhen conditions deteriorated and the fire went up to five alarms, five firefighters were forced to escape the blaze using ladders, officials said during a news conference Sunday.\\nTwo firefighters were taken to the hospital, but Christopher Roy, 36, succumbed to his injuries, officials said.\\nWCVB\\n“It’s important for us to know and appreciate how incredibly hard the men of the Worcester fire department fought to save Chris’ life, and we know how devastating this is to them,” said Worcester City Manager Edward M. Augustus.\\nThe Worcester Fire Department mourns the line of duty death of FF Christopher Roy who courageously battled a 5 alarm fire on Lowell St. All responding firefighters & crews displayed supreme heroism under extreme conditions. We ask you to keep the family of FF Roy in your thoughts pic.twitter.com/Xs0bOQHGFa — Worcester Fire Dept. (@WorcesterFD) December 9, 2018\\nRoy was assigned to Ladder 4, Group 3, at Webster Square Fire Station. He had been for the department for two and a half years, according to Worcester Fire Chief Michael Lavoie.\\nRoy had an 8-year-old daughter, Ava, and is survived by his mother, Michelle, and his father, Ron, officials said during the news conference.\\n“Firefighter Roy paid the ultimate sacrifice last night, doing what he always wanted to do -- helping people and saving lives,” said Mayor Joseph Petty.\\nThis is not the first time that the Worcester Fire Department has suffered a major loss.\\nSix Worcester firefighters died in a cold storage warehouse fire on Dec. 3, 1999, in a tragedy that became known as the \"Worcester Six.\"\\nThen-President Bill Clinton and Vice President Al Gore joined mourners at the memorial service.\\nOn Dec. 8, 2011, Worcester firefighter John Davies, 43, while responding to a fire when the building he was in collapsed, according to the National Fallen Firefighters Foundation.\\nWCVB\\n\"Once again, December has proven to be the cruelest month of the year for the Worcester Fire Department,\" said Worcester Mayor Joseph Petty at the press conference on Sunday.\\n\"The loss is especially gut-wrenching in the wake of the anniversary of the Worcester Six on Dec. 3, 1999,\" said Augustus. \"Every day, our fire fighters selflessly risk their lives without a second thought.\"'],\n",
       " ['abcnews',\n",
       "  'https://abcnews.go.com/US/wireStory/funeral-baby-jane-doe-found-california-highway-59713818',\n",
       "  \"Funeral for 'Baby Jane Doe' found near California highway\",\n",
       "  'Dozens of people bearing flowers or stuffed animals attended a funeral for a newborn girl found dead last summer along a Southern California highway.\\nAuthorities in Riverside County continue to investigate the death of the baby whose identity remains a mystery.\\nThe service on Thursday was organized in part by police officers and firefighters, the Press-Enterprise reported.\\nJon Castillo, a Corona police chaplain, led the about 70 people in prayer near the tiny, flower-draped casket.\\n\"Every person who walks the planet is born in God\\'s image, and she had inherent value and worth,\" Castillo said.\\nThe girl known as \"Baby Jane Doe\" was discovered on July 27 in a cardboard box near Interstate 15 in Corona, east of Los Angeles. She was wrapped in a t-shirt with stripes and a floral pattern.\\nMonica Montejano was among those who said they felt compelled to show respect for the child.\\n\"I would have held her,\" Montejano told the newspaper. \"I would have loved her.\"\\nLorena Palacios placed a pair of miniature Christmas trees by the casket. She bought one at a grocery store and the other was purchased by a store employee who wanted to contribute.\\n\"It\\'s December, it\\'s Christmas. I have three kids. Every kid wants a tree,\" Palacios said.\\nThe coroner has been unable to identify potential family members through DNA. Officials said detectives are asking for the public\\'s help during the ongoing investigation.\\nAuthorities also emphasized that Corona offers several sites — including police stations, fire stations and hospitals — where parents can give up an infant within 72 hours of birth with no questions asked.\\n———\\nInformation from: The Press-Enterprise, http://www.pe.com']]"
      ]
     },
     "execution_count": 4,
     "metadata": {},
     "output_type": "execute_result"
    }
   ],
   "source": [
    "articles[:3]"
   ]
  },
  {
   "cell_type": "code",
   "execution_count": 5,
   "metadata": {
    "scrolled": true
   },
   "outputs": [],
   "source": [
    "import math\n",
    "n = len(articles)\n",
    "avgArticleLen = sum(articleslen)*1.0/n\n",
    "match = [[0 for i in range(n)] for i in range(n)]\n",
    "for i in range(n):\n",
    "    mainarticle = wordRepArticles[i]\n",
    "    mainlength = articleslen[i]\n",
    "    for j in range(i+1,n):\n",
    "        comparearticle = wordRepArticles[j]\n",
    "        comparelength = articleslen[j]\n",
    "        commonwords = list(set(mainarticle[1].keys()) & set(comparearticle[1].keys())) \n",
    "        value = 0\n",
    "        for word in commonwords:\n",
    "            mainvalue = (1+math.log(mainarticle[1][word]))*1.0/(math.log(1+mainlength/avgArticleLen))\n",
    "            compvalue = (1+math.log(comparearticle[1][word]))*1.0/(math.log(1+comparelength/avgArticleLen))\n",
    "            value += mainvalue*compvalue* math.log(1+n/idf[word])\n",
    "        match[i][j] = value\n",
    "        match[j][i] = value"
   ]
  },
  {
   "cell_type": "code",
   "execution_count": 6,
   "metadata": {
    "scrolled": true
   },
   "outputs": [
    {
     "name": "stdout",
     "output_type": "stream",
     "text": [
      "Main title: Must reads before Monday\n",
      "0/3: Father denied visa for slain daughter's funeral as suspect charged with rape, murder\n",
      "1/3: Man accused of killing 13-year-old Hania Aguilar could face death penalty if convicted\n",
      "2/3: FBI: Man arrested in death of North Carolina teenager\n",
      "Main title: Worcester firefighter dies while battling huge blaze, the latest in a string of firefighter deaths in city\n",
      "0/3: Chief identifies firefighter who died after becoming trapped in five-alarm Worcester fire\n",
      "1/3: 5 children under age of 10 die in Ohio house fire\n",
      "2/3: California marks 1 month since deadly wildfires ripped through state\n",
      "Main title: Funeral for 'Baby Jane Doe' found near California highway\n",
      "0/3: Parents charged in 10-month-old daughter's overdose death\n",
      "1/3: Texas Daycare Worker Accused of Breaking Baby’s Bones\n",
      "2/3: Boyfriend allegedly kills girlfriend and her 17-year-old daughter: Sheriff\n",
      "Main title: Amazon touted as big win for NY, but math is more complex\n",
      "Main title: Qatar emir skips Saudi-hosted Gulf summit amid boycott\n",
      "0/3: Gulf divisions widen as Qatar accused of 'snubbing' meeting\n",
      "1/3: Qatar Withdraws from Saudi Arabia-Led OPEC\n",
      "2/3: Yemen peace talks in Sweden focus on prisoner swap deal\n",
      "Main title: Cory Booker will decide whether to run for president 'over the holidays'\n",
      "0/3: The View: Michael Bloomberg takes GOP, Trump to task\n",
      "1/3: The Note: Robert Mueller presents new political peril for President Donald Trump\n",
      "2/3: 2020 Democratic primary: California and Texas look to become the new Iowa and New Hampshire\n",
      "Main title: Donald Trump directed Michael Cohen to make hush money payments during 2016 campaign, federal prosecutors allege in court filings\n",
      "0/3: Chris Christie: President Trump 'not totally clear' until special counsel Robert Mueller 'hands in the keys'\n",
      "1/3: Prosecutors Paint Michael Cohen as a Liar – But Rely on Him for Anti-Trump Charges\n",
      "2/3: Donald Trump denies wrongdoing amid accusations from prosecutors in Russia probe\n",
      "Main title: Robert Mueller is hiding in Eric Trump's closet on 'SNL'\n",
      "0/3: 'SNL': Robert De Niro is hiding in Eric Trump's closet as boogeyman Robert Mueller\n",
      "1/3: Robert De Niro's Mueller returns to 'SNL'\n",
      "2/3: 'SNL': Jason Momoa resurrects his 'Game of Thrones' character, Khal Drogo\n",
      "Main title: North Carolina, Virginia hit by 'mammoth' winter storm, hours of snow and ice still to come\n",
      "0/3: Winter Storm Sweeps South: 300,000+ No Power, 1,500 Canceled Flights\n",
      "1/3: 'Nightmare and a tragedy': Massive snowstorm leaves at least 2 dead in North Carolina as Southeast digs out\n",
      "2/3: Storm slams South with heavy snow, power outages as over 1,000 flights canceled out of Charlotte\n",
      "Main title: China summons US envoy to protest detention of Huawei exec\n",
      "0/3: China, protesting Huawei executive's detention, says it summoned US ambassador\n",
      "1/3: China warns of \"grave consequences\" if Huawei executive isn't released\n",
      "2/3: China summons U.S. ambassador, warns Canada of 'grave consequences' if Huawei executive Meng Wanzhou is not released\n",
      "Main title: Pence's chief of staff will not take over White House role after John Kelly leaves\n",
      "0/3: Trump says chief of staff John Kelly will leave at the end of the year\n",
      "1/3: Nick Ayers out as candidate to become President Donald Trump's next chief of staff\n",
      "2/3: President Trump scrambles for next chief of staff with John Kelly set to depart\n",
      "Main title: Trump says chief of staff John Kelly will leave at the end of the year\n",
      "0/3: Pence's chief of staff will not take over White House role after John Kelly leaves\n",
      "1/3: Trump says John Kelly to leave chief of staff role by year end\n",
      "2/3: Amid reports of John Kelly departure, Donald Trump team signals coming staff announcement\n",
      "Main title: Chris Christie: President Trump 'not totally clear' until special counsel Robert Mueller 'hands in the keys'\n",
      "0/3: Mueller says Michael Cohen helped special counsel's probe\n",
      "1/3: Dershowitz: Cohen's Harsh Sentencing Recommendation 'Doesn't Sound Like Good News for Mueller'\n",
      "2/3: Russia-related cases: Your guide to this week's action on Michael Cohen, Paul Manafort and Maria Butina\n",
      "Main title: Search for missing Colorado mother intensifies\n",
      "0/3: Search for missing Colorado mother Kelsey Berreth intensifies\n",
      "1/3: Boyfriend allegedly kills girlfriend and her 17-year-old daughter: Sheriff\n",
      "2/3: FBI: Man arrested in death of North Carolina teenager\n",
      "Main title: Mother, brother of double murder suspect arrested for alleged plot to kill witnesses\n",
      "0/3: New Jersey mansion murders spur calls for state to reinstate death penalty\n",
      "1/3: Man accused of killing 13-year-old Hania Aguilar could face death penalty if convicted\n",
      "2/3: Man accused of plotting attack against Ohio synagogue was inspired by Pittsburgh massacre: Officials\n",
      "Main title: Leading a double life: While appearing as a family man, Chris Watts wrote love letters to another woman before murdering wife, 2 daughters\n",
      "Main title: FBI agent hospitalized after being shot in New York; 2 suspects in custody\n",
      "0/3: Chaotic Sweden: Multiple Explosions, Hospital Shooting in Just 12 Hours\n",
      "1/3: 5 children under age of 10 die in Ohio house fire\n",
      "2/3: Border Patrol Agent Assaulted by Drug Smuggler at Canadian Border\n",
      "Main title: Caregivers for 3,600 migrant teens lack complete abuse checks\n",
      "Main title: Trump resort worker: No regrets speaking out about abuse\n",
      "0/3: Undocumented housekeeper at Trump golf course says she does not regret going public\n",
      "1/3: NYT Admits Trump Hotels Tightened Policy Against Hiring Illegals in 2015\n",
      "Main title: Pardoning Paul Manafort would be 'terrible mistake,' could 'trigger a debate' about pardon power: Sen. Marco Rubio\n",
      "0/3: Paul Manafort lied about contact with administration officials: Special counsel\n",
      "1/3: 'No one should be above the law': Rubio warns Manafort pardon would be 'terrible mistake'\n",
      "2/3: Chris Christie: President Trump 'not totally clear' until special counsel Robert Mueller 'hands in the keys'\n",
      "Main title: Sen. Chris Murphy: Mueller probe now 'beyond the stage' of Clinton impeachment\n",
      "0/3: Dem Sen. Murphy: Trump ‘Has Now Stepped Into the Same Territory’ that Ultimately Led to Nixon Resign\n",
      "1/3: Chris Christie: President Trump 'not totally clear' until special counsel Robert Mueller 'hands in the keys'\n",
      "2/3: Michael Cohen filings renew discussion of Trump's impeachment\n",
      "Main title: Comey: FBI probe of Russia initially looked at 4 Americans\n",
      "0/3: Trump blasts 'Leakin' James Comey' following former FBI chief's testimony on Capitol Hill\n",
      "1/3: James Comey: Russia investigation started with four Americans with ties to Trump, Russia\n",
      "2/3: FBI investigated four Americans on Russia collusion suspicions: Comey\n",
      "Main title: Paul Manafort lied about contact with administration officials: Special counsel\n",
      "0/3: Mueller to release new details on ex-Trump aides Manafort, Cohen\n",
      "1/3: Russia-related cases: Your guide to this week's action on Michael Cohen, Paul Manafort and Maria Butina\n",
      "2/3: Mueller court filing details how Manafort allegedly lied to the government\n",
      "Main title: Fact Check Friday: Trump's tariff-ically false claims and more\n",
      "0/3: Paris protests continue for third weekend despite Macron conceding to original demands\n",
      "1/3: Trump: Paris Climate Accord ‘Isn’t Working Out So Well For Paris’ As Riots Engulf City\n",
      "2/3: Donald Trump Demands ‘REAL DEAL’ with China Despite Shaken Stock Market\n",
      "Main title: Mia Love says 'it wasn't my job' to be in 'lockstep' with Trump\n",
      "0/3: Mia Love slams Trump, says GOP paid price for not letting minorities 'into their hearts'\n",
      "1/3: Trump's proclamation comes true: Rep. Mia Love loses re-election bid in Utah\n",
      "2/3: California Democrat takes vote lead after trailing 7 points on election night\n",
      "Main title: Trump nominates Army Gen. Mark Milley as next chairman of the Joint Chiefs of Staff\n",
      "0/3: Donald Trump makes it official: Gen. Mark Milley to chair Joint Chiefs of Staff\n",
      "1/3: Trump to nominate Milley as next chairman of Joint Chiefs\n",
      "2/3: President Trump Confirms John Kelly Out as White House Chief of Staff\n",
      "Main title: Everything you need to know about John Kelly, Trump's chief of staff\n",
      "0/3: Trump says chief of staff John Kelly will leave at the end of the year\n",
      "1/3: Trump says John Kelly to leave chief of staff role by year end\n",
      "2/3: Pence's chief of staff will not take over White House role after John Kelly leaves\n",
      "Main title: Trump announces he'll nominate William Barr as next attorney general\n",
      "0/3: Trump will nominate William Barr as next attorney general\n",
      "1/3: 'Go Back & Read It': Rove, Juan Williams Spar Over Potential New AG's Bush Ties, Mueller Remarks\n",
      "2/3: Trump confirms he will nominate William Barr to be attorney general\n",
      "Main title: Oldest wild seabird lays another egg on Midway Atoll\n",
      "0/3: The most remote fine dining experience in the world?\n",
      "1/3: The world's most scenic flight?\n",
      "2/3: World's vertebrate population dropped by an average of 60 percent since 1970, WWF says\n",
      "Main title: At scene of South Sudan mass rape, 'no one could hear me'\n",
      "Main title: Evers not optimistic Wisconsin Gov. Walker will veto bills\n",
      "0/3: Wisconsin legislature speaker: Skip the outrage. We’re doing our job.\n",
      "1/3: Emily Mills Republicans' power grab in Wisconsin is more evidence the party doesn't care about the will of the voters\n",
      "2/3: Lame-duck GOP power grabs show contempt for voters\n",
      "Main title: Yemen peace talks in Sweden focus on prisoner swap deal\n",
      "0/3: U.N. says average of 123 civilians killed or wounded each week in Yemen\n",
      "1/3: Mom in Yemen with malnourished 5-month-old tells her story\n",
      "2/3: Yemen's prime minister says U.S. can help end humanitarian crisis\n"
     ]
    },
    {
     "name": "stdout",
     "output_type": "stream",
     "text": [
      "Main title: Paris protests continue for third weekend despite Macron conceding to original demands\n",
      "0/3: Trump: Paris Climate Accord ‘Isn’t Working Out So Well For Paris’ As Riots Engulf City\n",
      "1/3: Trump on France Chaos: 'End Paris Agreement, Return Money to People'\n",
      "2/3: Who are France's 'Yellow Jacket' protesters and what do they want?\n",
      "Main title: Russia's crumbling Baikonur spaceport is Earth's only launch pad for manned flights\n",
      "0/3: Weeks after scary mishap, Soyuz rocket to launch spaceflyers to space station\n",
      "1/3: Must reads before Monday\n",
      "2/3: Astronaut Nick Hague is 'ready to go' again after failed launch to space station\n",
      "Main title: What does Martian wind sound like? Now we know\n",
      "0/3: NASA's InSight lander captures first 'sounds' of wind on Mars\n",
      "1/3: In space first, China launches lunar rover to far side of the moon\n",
      "2/3: Meet the engineer behind NASA's robotic arm for Mars\n",
      "Main title: Astronaut Nick Hague is 'ready to go' again after failed launch to space station\n",
      "0/3: Weeks after scary mishap, Soyuz rocket to launch spaceflyers to space station\n",
      "1/3: Astronaut Nick Hague describes \"violent shaking\" during failed Soyuz rocket launch\n",
      "2/3: SpaceX launches cargo ship to space station, but Falcon 9 rocket misses landing site\n",
      "Main title: After marijuana edibles helped dying Holocaust survivor battle Alzheimer's, his family's foundation pushes for more research\n",
      "0/3: Even without proof, CBD is finding a niche as a cure-all\n",
      "Main title: ATF investigating 5th fire at Jehovah's Witness centers in Washington this year\n",
      "0/3: Chaotic Sweden: Multiple Explosions, Hospital Shooting in Just 12 Hours\n",
      "Main title: Former Miss Kentucky admits she sent topless photos to young boy: Officials\n",
      "0/3: Ex-Miss Kentucky charged with sending nude photos via Snapchat to student\n",
      "1/3: Science Teacher Accused of Sending Nudes to 15-Year-Old\n",
      "2/3: Boyfriend allegedly kills girlfriend and her 17-year-old daughter: Sheriff\n",
      "Main title: Devastated town mourns kidnapped, murdered teen as one of the 'brightest lights'\n",
      "0/3: Man accused of killing 13-year-old Hania Aguilar could face death penalty if convicted\n",
      "1/3: Father denied visa for slain daughter's funeral as suspect charged with rape, murder\n",
      "2/3: FBI: Man arrested in death of North Carolina teenager\n",
      "Main title: Battle of wills: Tiny order of French nuns takes on Vatican\n",
      "Main title: Huawei executive Meng Wanzhou will remain in jail as Canadian court outlines case against her\n",
      "0/3: Huawei CFO facing US extradition appears in Canadian court\n",
      "1/3: Canadian Prosecutors Accuse Huawei CFO Meng of Fraud Aimed at Evading Iran Sanctions\n",
      "2/3: China warns of \"grave consequences\" if Huawei executive isn't released\n",
      "Main title: Homeless and selfless: Man gives jaw-dropping gift back to food bank that feeds him\n",
      "Main title: NYPD accused of 'shackling' pregnant woman in labor, lawsuit claims\n",
      "Main title: Hunger, lice, filth: Moroccan camp shows migrant challenges\n",
      "0/3: Nearly 85 percent of UN nations back migration deal; not US\n",
      "1/3: Dutch Leader Slams \"Suicidal\" UN Migration Deal\n",
      "2/3: Germany and France: Accept Migrants or Pay Up\n",
      "Main title: California marks 1 month since deadly wildfires ripped through state\n",
      "0/3: Homeowner returns one month after Camp Fire, finds her dog waiting for her at her house\n",
      "1/3: Man survives deadly California wildfire by hiding in creek with his dog\n",
      "2/3: A dog stands guard outside his owner's California home for almost a month after the Camp Fire\n",
      "Main title: 5 natural disasters that devastated the US in 2018\n",
      "0/3: California marks 1 month since deadly wildfires ripped through state\n",
      "1/3: 'Nightmare and a tragedy': Massive snowstorm leaves at least 2 dead in North Carolina as Southeast digs out\n",
      "2/3: Family of 12 struggling to find shelter more than a week after Hurricane Michael\n",
      "Main title: 'What are you trying to prove?': Parenting experts weigh in on dad's bullying punishment\n",
      "0/3: Dad makes daughter walk to school as punishment for bullying other students on her bus\n",
      "Main title: 13-year-old student with autism dies after being physically restrained at school\n",
      "0/3: Boyfriend allegedly kills girlfriend and her 17-year-old daughter: Sheriff\n",
      "1/3: Ex-Miss Kentucky charged with sending nude photos via Snapchat to student\n",
      "2/3: Teacher Jailed After Forcibly Cutting Student’s Hair While Singing\n",
      "Main title: Parents charged in 10-month-old daughter's overdose death\n",
      "0/3: Funeral for 'Baby Jane Doe' found near California highway\n",
      "1/3: BAPD release disturbing new details on Broken Arrow homicide\n"
     ]
    }
   ],
   "source": [
    "topmatches = [[] for i in range(n)]\n",
    "matches = 3\n",
    "for i in range(n):\n",
    "    vals = [[match[i][j],j] for j in range(n)]\n",
    "    toparticle = sorted(vals,reverse=True)[:matches]\n",
    "    if i<50:\n",
    "        print(\"Main title: \"+ articles[i][2])\n",
    "    for j in range(matches):\n",
    "        if toparticle[j][0] > 1000:\n",
    "            topmatches[i].append(toparticle[j])\n",
    "            if i<50:\n",
    "                print(str(j)+\"/\" + str(matches)+ \": \" + articles[toparticle[j][1]][2])\n",
    "matchvalues =[]\n",
    "for i in topmatches:\n",
    "    for j in i:\n",
    "        matchvalues.append(j[0])        "
   ]
  },
  {
   "cell_type": "code",
   "execution_count": 7,
   "metadata": {},
   "outputs": [
    {
     "name": "stdout",
     "output_type": "stream",
     "text": [
      "972.2436224489796\n"
     ]
    }
   ],
   "source": [
    "print(avgArticleLen)"
   ]
  },
  {
   "cell_type": "code",
   "execution_count": 8,
   "metadata": {
    "scrolled": true
   },
   "outputs": [],
   "source": [
    "sentmatch = []\n",
    "for i in range(n):\n",
    "    mainarticle = wordRepArticles[i]\n",
    "    rep=[]\n",
    "    for j in range(len(topmatches[i])):\n",
    "        comparearticle = wordRepArticles[topmatches[i][j][1]]\n",
    "        bestmatchSentence =[]\n",
    "        for k in range(len(mainarticle[2])):\n",
    "            val = -1\n",
    "            ind = 0\n",
    "            msentence = mainarticle[2][k][1]\n",
    "            mainlength = len(mainarticle[2][k][0].split(' '))\n",
    "            for l in range(len(comparearticle[2])):\n",
    "                csentence = comparearticle[2][l][1]\n",
    "                comparelength = len(comparearticle[2][l][0].split(' '))\n",
    "                commonwords = list(set(msentence.keys()) & set(csentence.keys())) \n",
    "                if len(words)>3:\n",
    "                    value = 0\n",
    "                    for word in commonwords:\n",
    "                        mainvalue = (1+math.log(msentence[word]))*1.0/(math.log(1+mainlength/avgArticleLen))\n",
    "                        compvalue = (1+math.log(csentence[word]))*1.0/(math.log(1+comparelength/avgArticleLen))\n",
    "                        value += mainvalue*compvalue* math.log(1+n/idf[word])\n",
    "                    if value>val:\n",
    "                        val = value\n",
    "                        ind = l\n",
    "            bestmatchSentence.append([ind,val,comparearticle[2][ind][0]])\n",
    "        rep.append(bestmatchSentence)\n",
    "    sentmatch.append(rep)"
   ]
  },
  {
   "cell_type": "code",
   "execution_count": 13,
   "metadata": {},
   "outputs": [],
   "source": [
    "from vaderSentiment.vaderSentiment import SentimentIntensityAnalyzer\n",
    "analyzer = SentimentIntensityAnalyzer() \n",
    "\n",
    "sources = list(set(sources))\n",
    "\n",
    "reliability = [9.9 for i in range(len(sources))]\n",
    "articleaggreeement=[]\n",
    "for i in range(n):\n",
    "    articleval =0\n",
    "    mainarticle = wordRepArticles[i]\n",
    "    actualarticlecount=len(topmatches[i])\n",
    "    for j in range(len(topmatches[i])):\n",
    "        val=0\n",
    "        sentcount =0 \n",
    "        comparticle=wordRepArticles[topmatches[i][j][1]]\n",
    "        for k in range(len(mainarticle[2])):\n",
    "            sent1 = analyzer.polarity_scores(mainarticle[2][k][0])['compound']\n",
    "            if sentmatch[i][j][k][1]==-1:\n",
    "                continue\n",
    "            sent2 = analyzer.polarity_scores(sentmatch[i][j][k][2])['compound']\n",
    "            if (sent1 >0.05 and sent2 >0.05) or (sent1 <-0.05 and sent2 <-0.05) or (sent1 <0.05 and sent2 <0.05 and sent1 >-0.05 and sent2 >-0.05):\n",
    "                val +=1\n",
    "            sentcount+=1\n",
    "        if sentcount > 0.5*len(mainarticle[2]):\n",
    "            val /= len(mainarticle[2])\n",
    "            topmatches[i][j][0] = val*100\n",
    "            articleval +=val*reliability[sources.index(articles[topmatches[i][j][1]][0])]\n",
    "        else:\n",
    "            actualarticlecount-=1\n",
    "    if actualarticlecount==0 :\n",
    "        articleaggreeement.append(0)\n",
    "        articles[i].append(0)\n",
    "    else:\n",
    "        articleaggreeement.append(articleval/actualarticlecount)\n",
    "        articles[i].append(articleval/actualarticlecount)\n",
    "\n",
    "for i in range(n):\n",
    "    articles[i][0] = sources.index(articles[i][0])\n",
    "    articles[i].append(i)"
   ]
  },
  {
   "cell_type": "code",
   "execution_count": 14,
   "metadata": {
    "scrolled": true
   },
   "outputs": [
    {
     "name": "stdout",
     "output_type": "stream",
     "text": [
      "[[7, 'https://abcnews.go.com/US/reads-monday/story?id=59712958', 'Must reads before Monday', 'One parent\\'s decision to shame his daughter on social media drew mixed responses, Florida is struggling with major toxic algae blooms, the only operating spaceport in the world is crumbling, and eight children affected by Trump\\'s \"zero-tolerance\" border policy are still waiting to be reunited with their families.\\nDon’t miss out on some of ABC News\\' best reporting from this week.\\n\\'What are you trying to prove?\\': Parenting experts weigh in on dad\\'s bullying punishment\\nSTOCK/Getty Images\\nA viral video posted by a father that forced his daughter to walk 5 miles to school in near-freezing temperatures has prompted questions about the use of social media as a way to humiliate and discipline children. Some experts say that shame is not an \"effective way to change behavior.\"\\n\\'When is this going to stop?\\': Florida activist highlights devastating impact of algae blooms on wildlife\\nJoe Raedle/Getty Images, FILE\\nHarmful algae blooms in Florida have been killing off fish, eels and dolphins. Scientists say that these blooms could be exacerbated by a warming and increasingly acidic ocean. Critics say that Gov. Rick Scott\\'s loosening of environmental regulations are part of why algae blooms have been so bad.\\nRussia\\'s crumbling Baikonur spaceport is Earth\\'s only launch pad for manned flights\\nPatrick Reevell/ABC News\\nThis week, a Soyuz rocket carrying three astronauts took off for the International Space Station. It launched from Baikonur, located in Khazakstan, which is currently the only place in the world for these types of space flights. The spaceport reflects Russia\\'s complicated legacy of space flight.\\nDevastated town mourns kidnapped, murdered teen as one of the \\'brightest lights\\'\\nFBI via AP\\nA town is in mourning for 13-year-old Hania Noelia Aguilar, who was kidnapped and murdered in Lumberton, North Carolina. Friends and family spoke at her funeral service on Saturday, which was held at her high school gymnasium. A suspect, Michael Ray McLellan, 34, has been arrested and charged with her murder.\\n8 kids left: The lingering aftermath of Trump\\'s \\'zero-tolerance\\' policy at the border\\nJohn Moore/Getty Images\\nAfter former Attorney General Jeff Sessions\\' April decision to prosecute adults crossing America\\'s southern border illegally, more than 2,600 children were separated from their families. President Trump eventually issued an executive order that put a stop to that practice. Now, eight children who are eligible to be reunited with their families are still waiting to see them.', 4.95, 0], [7, 'https://abcnews.go.com/US/massachusetts-firefighter-dies-battling-huge-blaze/story?id=59711602', 'Worcester firefighter dies while battling huge blaze, the latest in a string of firefighter deaths in city', 'A Worcester, Massachusetts, firefighter died early Sunday while battling a massive fire in a 3-story building, officials said -- the latest in a sad history of firefighter deaths in the city.\\nInterested in Wildfires? Add Wildfires as an interest to stay up to date on the latest Wildfires news, video, and analysis from ABC News. Add Interest\\nFirefighters responded to a fire at 7 Lowell St. in Worcester just before 4 a.m., according to fire officials.\\nWhen conditions deteriorated and the fire went up to five alarms, five firefighters were forced to escape the blaze using ladders, officials said during a news conference Sunday.\\nTwo firefighters were taken to the hospital, but Christopher Roy, 36, succumbed to his injuries, officials said.\\nWCVB\\n“It’s important for us to know and appreciate how incredibly hard the men of the Worcester fire department fought to save Chris’ life, and we know how devastating this is to them,” said Worcester City Manager Edward M. Augustus.\\nThe Worcester Fire Department mourns the line of duty death of FF Christopher Roy who courageously battled a 5 alarm fire on Lowell St. All responding firefighters & crews displayed supreme heroism under extreme conditions. We ask you to keep the family of FF Roy in your thoughts pic.twitter.com/Xs0bOQHGFa — Worcester Fire Dept. (@WorcesterFD) December 9, 2018\\nRoy was assigned to Ladder 4, Group 3, at Webster Square Fire Station. He had been for the department for two and a half years, according to Worcester Fire Chief Michael Lavoie.\\nRoy had an 8-year-old daughter, Ava, and is survived by his mother, Michelle, and his father, Ron, officials said during the news conference.\\n“Firefighter Roy paid the ultimate sacrifice last night, doing what he always wanted to do -- helping people and saving lives,” said Mayor Joseph Petty.\\nThis is not the first time that the Worcester Fire Department has suffered a major loss.\\nSix Worcester firefighters died in a cold storage warehouse fire on Dec. 3, 1999, in a tragedy that became known as the \"Worcester Six.\"\\nThen-President Bill Clinton and Vice President Al Gore joined mourners at the memorial service.\\nOn Dec. 8, 2011, Worcester firefighter John Davies, 43, while responding to a fire when the building he was in collapsed, according to the National Fallen Firefighters Foundation.\\nWCVB\\n\"Once again, December has proven to be the cruelest month of the year for the Worcester Fire Department,\" said Worcester Mayor Joseph Petty at the press conference on Sunday.\\n\"The loss is especially gut-wrenching in the wake of the anniversary of the Worcester Six on Dec. 3, 1999,\" said Augustus. \"Every day, our fire fighters selflessly risk their lives without a second thought.\"', 7.182352941176471, 1]]\n",
      "[[[64.28571428571429, 400], [50.0, 2152], [35.714285714285715, 881]], [[76.47058823529412, 1114], [64.70588235294117, 2156], [76.47058823529412, 45]]]\n"
     ]
    }
   ],
   "source": [
    "print(articles[:2])\n",
    "print(topmatches[:2])"
   ]
  },
  {
   "cell_type": "code",
   "execution_count": 15,
   "metadata": {},
   "outputs": [
    {
     "name": "stdout",
     "output_type": "stream",
     "text": [
      "[0, 'cbsnews', 9.9]\n"
     ]
    }
   ],
   "source": [
    "sourcerelia=[]\n",
    "for i in range(len(sources)):\n",
    "    sourcerelia.append([i,sources[i],reliability[i]])\n",
    "fileObject = open('./mysite/sourcereliability.pickle','wb')\n",
    "pickle.dump(sourcerelia,fileObject)\n",
    "fileObject.close()\n",
    "print(sourcerelia[0])"
   ]
  },
  {
   "cell_type": "code",
   "execution_count": 16,
   "metadata": {},
   "outputs": [],
   "source": [
    "articlesimilarity=[]\n",
    "for i in range(n):\n",
    "    for j in range(len(topmatches[i])):\n",
    "#         articlesimilarity.append([articles[i][2],articles[topmatches[i][j][1]][2]])\n",
    "        articlesimilarity.append([i,topmatches[i][j][1],topmatches[i][j][0]])\n",
    "fileObject = open('./mysite/articlessimilarity.pickle','wb')\n",
    "pickle.dump(articlesimilarity,fileObject)\n",
    "fileObject.close()"
   ]
  },
  {
   "cell_type": "code",
   "execution_count": 17,
   "metadata": {},
   "outputs": [
    {
     "name": "stdout",
     "output_type": "stream",
     "text": [
      "[0, 400, 64.28571428571429]\n"
     ]
    }
   ],
   "source": [
    "print(articlesimilarity[0])"
   ]
  },
  {
   "cell_type": "code",
   "execution_count": 18,
   "metadata": {},
   "outputs": [],
   "source": [
    "fileObject = open('./mysite/cleanedarticles.pickle','wb')\n",
    "pickle.dump(articles,fileObject)\n",
    "fileObject.close()"
   ]
  },
  {
   "cell_type": "code",
   "execution_count": 19,
   "metadata": {},
   "outputs": [],
   "source": [
    "# max([i[0] for i in articles])"
   ]
  },
  {
   "cell_type": "code",
   "execution_count": 20,
   "metadata": {},
   "outputs": [],
   "source": [
    "matchvalues =[]\n",
    "for i in topmatches:\n",
    "    for j in i:\n",
    "        matchvalues.append(j[0])"
   ]
  },
  {
   "cell_type": "code",
   "execution_count": 22,
   "metadata": {
    "scrolled": false
   },
   "outputs": [
    {
     "name": "stdout",
     "output_type": "stream",
     "text": [
      "100.0 0.0\n",
      "0 7056\n"
     ]
    },
    {
     "data": {
      "image/png": "[encoded data removed]",
      "text/plain": [
       "<Figure size 432x288 with 1 Axes>"
      ]
     },
     "metadata": {
      "needs_background": "light"
     },
     "output_type": "display_data"
    }
   ],
   "source": [
    "n = len(articles)\n",
    "import numpy as np\n",
    "import matplotlib.pyplot as plt\n",
    "print(max(matchvalues),min(matchvalues))\n",
    "# cleanval = list(filter(lambda a: a > 1000, matchvalues))\n",
    "print(len(cleanval),n*3)\n",
    "_, bins, patches = plt.hist(matchvalues, 10, facecolor='g')\n",
    "plt.show()"
   ]
  },
  {
   "cell_type": "code",
   "execution_count": 24,
   "metadata": {
    "scrolled": true
   },
   "outputs": [
    {
     "name": "stdout",
     "output_type": "stream",
     "text": [
      "[64.28571428571429, 50.0, 35.714285714285715, 76.47058823529412, 64.70588235294117, 76.47058823529412, 28.57142857142857, 42.857142857142854, 35.714285714285715, 55.00000000000001, 15.0, 20.0, 20.0, 46.666666666666664, 53.333333333333336, 60.71428571428571, 57.14285714285714, 42.857142857142854, 64.70588235294117, 41.17647058823529, 29.411764705882355, 50.0, 55.55555555555556, 16.666666666666664, 96.0, 84.0, 48.0, 50.0, 50.0, 58.333333333333336, 47.05882352941176, 41.17647058823529, 35.294117647058826, 41.66666666666667, 50.0, 58.333333333333336, 85.71428571428571, 21.428571428571427, 14.285714285714285, 90.9090909090909, 90.9090909090909, 90.9090909090909, 46.666666666666664, 40.0, 53.333333333333336, 13.043478260869565, 21.73913043478261, 50.0, 18.181818181818183, 40.909090909090914, 54.54545454545454, 27.27272727272727, 27.27272727272727, 52.17391304347826, 34.78260869565217, 47.82608695652174, 22.727272727272727, 50.0, 45.45454545454545, 60.0, 36.0, 48.0, 68.75, 43.75, 62.5, 57.89473684210527, 47.368421052631575, 47.368421052631575, 41.17647058823529, 38.23529411764706, 41.17647058823529, 29.03225806451613, 19.35483870967742, 48.38709677419355, 45.45454545454545, 54.54545454545454, 27.27272727272727, 33.33333333333333, 25.0, 33.33333333333333, 36.36363636363637, 72.72727272727273, 36.36363636363637, 27.27272727272727, 54.54545454545454, 54.54545454545454, 42.857142857142854, 18.367346938775512, 53.06122448979592, 35.714285714285715, 7.142857142857142, 42.857142857142854, 42.30769230769231, 26.923076923076923, 42.30769230769231, 32.0, 73.33333333333333, 40.0, 65.0, 45.0, 40.54054054054054, 21.62162162162162, 24.324324324324326, 50.0, 55.55555555555556, 38.88888888888889, 53.84615384615385, 42.30769230769231, 34.61538461538461, 75.0, 37.5, 68.75, 48.275862068965516, 41.37931034482759, 29.310344827586203, 47.82608695652174, 37.5, 31.25, 50.0, 53.84615384615385, 76.92307692307693, 42.857142857142854, 57.14285714285714, 42.857142857142854, 63.888888888888886, 37.5, 55.55555555555556, 50.0, 31.818181818181817, 18.181818181818183, 45.45454545454545, 82.6923076923077, 71.15384615384616, 42.30769230769231, 61.904761904761905, 80.95238095238095, 76.19047619047619, 69.23076923076923, 57.692307692307686, 57.692307692307686, 65.625, 75.0, 71.875, 62.16216216216216, 59.45945945945946, 51.35135135135135, 31.57894736842105, 34.78260869565217, 30.434782608695656, 47.82608695652174, 35.714285714285715, 35.714285714285715, 28.57142857142857, 61.53846153846154, 69.23076923076923, 46.666666666666664, 53.84615384615385, 45.45454545454545, 33.33333333333333, 42.857142857142854, 71.42857142857143, 61.904761904761905, 95.45454545454545, 54.54545454545454, 78.26086956521739, 63.63636363636363, 81.81818181818183, 54.54545454545454, 33.33333333333333, 50.0, 66.66666666666666, 75.0, 40.0, 60.0, 40.42553191489361, 31.914893617021278, 29.78723404255319, 86.66666666666667, 86.66666666666667, 38.70967741935484, 30.434782608695656, 25.581395348837212, 66.66666666666666, 33.33333333333333, 50.0, 90.69767441860465, 39.53488372093023, 25.581395348837212, 26.31578947368421, 36.84210526315789, 52.63157894736842, 40.0, 40.0, 6.666666666666667, 36.84210526315789, 30.76923076923077, 15.384615384615385, 53.52112676056338, 25.0, 45.45454545454545, 27.27272727272727, 27.27272727272727, 10.256410256410255, 58.333333333333336, 33.33333333333333, 44.44444444444444, 22.22222222222222, 33.33333333333333, 53.333333333333336, 46.666666666666664, 62.5, 21.875, 26.08695652173913, 17.647058823529413, 11.76470588235294, 17.647058823529413, 58.333333333333336, 33.33333333333333, 41.66666666666667, 95.45454545454545, 50.0, 59.09090909090909, 40.0, 40.0, 56.25, 33.33333333333333, 33.33333333333333, 50.0, 50.0, 25.0, 25.0, 62.857142857142854, 37.142857142857146, 34.285714285714285, 50.0, 38.46153846153847, 76.92307692307693, 23.076923076923077, 61.53846153846154, 38.46153846153847, 57.692307692307686, 14.285714285714285, 14.285714285714285, 42.857142857142854, 56.25, 43.75, 25.0, 33.33333333333333, 11.11111111111111, 66.66666666666666, 62.5, 50.0, 50.0, 55.55555555555556, 55.55555555555556, 33.33333333333333, 46.808510638297875, 56.00000000000001, 48.0, 40.0, 33.33333333333333, 70.0, 23.809523809523807, 42.857142857142854, 42.857142857142854, 36.0, 44.0, 20.0, 29.411764705882355, 58.82352941176471, 47.22222222222222, 27.27272727272727, 24.242424242424242, 27.27272727272727, 83.33333333333334, 41.66666666666667, 83.33333333333334, 40.0, 46.666666666666664, 33.33333333333333, 43.18181818181818, 59.09090909090909, 47.72727272727273, 53.84615384615385, 34.61538461538461, 30.76923076923077, 26.666666666666668, 61.53846153846154, 38.46153846153847, 30.76923076923077, 52.63157894736842, 63.1578947368421, 26.31578947368421, 52.94117647058824, 47.05882352941176, 35.294117647058826, 63.63636363636363, 45.45454545454545, 45.45454545454545, 38.095238095238095, 52.38095238095239, 42.857142857142854, 35.0, 35.0, 75.0, 50.0, 83.33333333333334, 16.666666666666664, 16.666666666666664, 41.66666666666667, 58.333333333333336, 41.66666666666667, 66.66666666666666, 50.0, 83.33333333333334, 42.857142857142854, 40.0, 54.285714285714285, 18.6046511627907, 41.46341463414634, 13.953488372093023, 32.0, 36.0, 36.0, 12.195121951219512, 46.34146341463415, 41.46341463414634, 54.54545454545454, 27.27272727272727, 50.0, 41.17647058823529, 41.17647058823529, 17.647058823529413, 42.857142857142854, 50.0, 35.714285714285715, 53.57142857142857, 25.0, 39.285714285714285, 61.53846153846154, 30.76923076923077, 30.76923076923077, 36.36363636363637, 18.181818181818183, 22.727272727272727, 56.25, 50.0, 50.0, 47.05882352941176, 41.17647058823529, 17.647058823529413, 40.74074074074074, 29.629629629629626, 7.6923076923076925, 15.384615384615385, 84.61538461538461, 63.63636363636363, 45.45454545454545, 54.54545454545454, 50.0, 19.047619047619047, 26.190476190476193, 37.93103448275862, 34.48275862068966, 39.6551724137931, 47.05882352941176, 5.88235294117647, 11.76470588235294, 30.76923076923077, 38.46153846153847, 23.076923076923077, 27.27272727272727, 27.27272727272727, 31.818181818181817, 33.33333333333333, 66.66666666666666, 46.666666666666664, 44.0, 60.0, 40.0, 50.0, 43.75, 43.75, 16.666666666666664, 33.33333333333333, 38.88888888888889, 41.17647058823529, 47.05882352941176, 47.05882352941176, 46.15384615384615, 61.53846153846154, 76.92307692307693, 50.0, 64.28571428571429, 21.428571428571427, 64.28571428571429, 57.14285714285714, 64.28571428571429, 31.57894736842105, 36.84210526315789, 47.368421052631575, 46.15384615384615, 38.46153846153847, 53.84615384615385, 57.14285714285714, 42.857142857142854, 57.14285714285714, 43.75, 37.5, 37.5, 36.84210526315789, 63.1578947368421, 42.10526315789473, 36.0, 40.0, 28.000000000000004, 70.83333333333334, 58.333333333333336, 33.33333333333333, 21.052631578947366, 52.63157894736842, 42.10526315789473, 45.45454545454545, 45.45454545454545, 42.42424242424242, 32.35294117647059, 58.82352941176471, 66.66666666666666, 42.857142857142854, 35.714285714285715, 42.857142857142854, 33.33333333333333, 33.33333333333333, 42.857142857142854, 46.42857142857143, 35.714285714285715, 26.666666666666668, 72.88135593220339, 80.50847457627118, 85.59322033898306, 47.05882352941176, 21.568627450980394, 46.666666666666664, 66.66666666666666, 40.0, 31.818181818181817, 27.27272727272727, 56.00000000000001, 48.0, 48.0, 40.0, 36.666666666666664, 33.33333333333333, 40.0, 36.0, 36.0, 65.0, 40.0, 55.00000000000001, 33.33333333333333, 28.57142857142857, 38.095238095238095, 44.0, 36.0, 40.0, 44.73684210526316, 57.89473684210527, 58.333333333333336, 39.285714285714285, 53.57142857142857, 28.57142857142857, 80.0, 76.0, 72.0, 53.333333333333336, 12.371134020618557, 88.65979381443299, 65.97938144329896, 83.33333333333334, 75.0, 83.33333333333334, 69.6969696969697, 60.60606060606061, 75.75757575757575, 52.27272727272727, 51.13636363636363, 65.625, 62.857142857142854, 57.14285714285714, 57.14285714285714, 60.86956521739131, 56.52173913043478, 47.82608695652174, 73.91304347826086, 63.04347826086957, 50.0, 53.57142857142857, 35.714285714285715, 44.827586206896555, 51.724137931034484, 37.93103448275862, 29.268292682926827, 29.268292682926827, 36.58536585365854, 30.0, 43.333333333333336, 50.0, 31.25, 50.0, 40.909090909090914, 50.0, 79.16666666666666, 41.66666666666667, 25.0, 88.0, 52.0, 40.0, 54.166666666666664, 61.30952380952381, 67.26190476190477, 45.45454545454545, 63.63636363636363, 31.818181818181817, 58.97435897435898, 58.333333333333336, 66.66666666666666, 100.0, 40.0, 28.000000000000004, 53.191489361702125, 40.42553191489361, 40.42553191489361, 35.294117647058826, 29.411764705882355, 47.05882352941176, 53.84615384615385, 30.76923076923077, 53.84615384615385, 30.0, 35.0, 17.647058823529413, 17.647058823529413, 29.411764705882355, 33.33333333333333, 52.38095238095239, 52.38095238095239, 50.0, 31.818181818181817, 54.54545454545454, 38.095238095238095, 42.857142857142854, 33.33333333333333, 52.17391304347826, 42.857142857142854, 35.714285714285715, 35.714285714285715, 47.82608695652174, 34.78260869565217, 43.47826086956522, 48.0, 52.0, 32.0, 41.17647058823529, 55.88235294117647, 58.82352941176471, 44.827586206896555, 44.827586206896555, 34.48275862068966, 44.44444444444444, 14.814814814814813, 29.629629629629626, 26.923076923076923, 50.0, 53.84615384615385, 47.82608695652174, 30.434782608695656, 47.82608695652174, 40.625, 50.0, 59.375, 32.142857142857146, 39.285714285714285, 57.14285714285714, 32.142857142857146, 50.0, 32.142857142857146, 53.84615384615385, 34.61538461538461, 65.38461538461539, 40.0, 23.333333333333332, 53.333333333333336, 33.33333333333333, 65.38461538461539, 15.384615384615385, 50.0, 48.275862068965516, 37.93103448275862, 48.275862068965516, 20.0, 40.0, 56.00000000000001, 52.17391304347826, 43.47826086956522, 30.434782608695656, 35.0, 52.17391304347826, 39.130434782608695, 39.130434782608695, 29.411764705882355, 38.23529411764706, 38.23529411764706, 33.33333333333333, 50.0, 33.33333333333333, 68.75, 41.66666666666667, 52.083333333333336, 39.473684210526315, 39.473684210526315, 44.73684210526316, 31.25, 25.0, 31.25, 50.0, 26.47058823529412, 35.294117647058826, 44.61538461538462, 16.923076923076923, 38.46153846153847, 69.23076923076923, 38.46153846153847, 61.53846153846154, 20.833333333333336, 18.75, 37.5, 50.0, 33.33333333333333, 40.0, 48.888888888888886, 53.333333333333336, 57.14285714285714, 46.42857142857143, 50.0, 58.333333333333336, 83.33333333333334, 50.0, 33.33333333333333, 53.333333333333336, 33.33333333333333, 42.857142857142854, 28.57142857142857, 57.14285714285714, 40.0, 41.81818181818181, 52.72727272727272, 41.66666666666667, 75.0, 41.66666666666667, 16.666666666666664, 55.55555555555556, 33.33333333333333, 42.857142857142854, 32.142857142857146, 32.142857142857146, 27.27272727272727, 59.09090909090909, 40.909090909090914, 42.10526315789473, 31.57894736842105, 36.84210526315789, 54.54545454545454, 54.54545454545454, 70.37037037037037, 59.25925925925925, 59.25925925925925, 66.66666666666666, 88.88888888888889, 61.111111111111114, 43.75, 56.25, 62.5, 62.5, 59.375, 68.75, 71.42857142857143, 57.14285714285714, 64.28571428571429, 64.28571428571429, 50.0, 35.714285714285715, 74.28571428571429, 40.0, 57.14285714285714, 23.076923076923077, 53.84615384615385, 52.27272727272727, 81.81818181818183, 95.34883720930233, 6.976744186046512, 6.976744186046512, 48.57142857142857, 51.42857142857142, 31.428571428571427, 72.72727272727273, 62.7906976744186, 56.52173913043478, 34.78260869565217, 56.52173913043478, 73.68421052631578, 31.57894736842105, 73.68421052631578, 47.05882352941176, 47.05882352941176, 29.411764705882355, 30.76923076923077, 30.76923076923077, 38.46153846153847, 45.45454545454545, 50.0, 45.45454545454545, 61.111111111111114, 55.55555555555556, 72.22222222222221, 38.0, 44.0, 38.0, 23.076923076923077, 33.33333333333333, 33.33333333333333, 54.166666666666664, 58.333333333333336, 37.5, 30.0, 40.0, 32.0, 47.22222222222222, 50.0, 58.333333333333336, 47.61904761904761, 61.904761904761905, 26.190476190476193, 57.14285714285714, 50.0, 67.85714285714286, 44.0, 56.00000000000001, 40.0, 50.0, 41.17647058823529, 55.88235294117647, 52.38095238095239, 57.14285714285714, 38.095238095238095, 36.36363636363637, 31.818181818181817, 45.45454545454545, 42.857142857142854, 53.57142857142857, 42.857142857142854, 48.93617021276596, 40.42553191489361, 36.17021276595745, 26.666666666666668, 35.55555555555556, 51.11111111111111, 55.172413793103445, 41.37931034482759, 27.586206896551722, 38.775510204081634, 38.775510204081634, 30.612244897959183, 77.27272727272727, 40.909090909090914, 45.45454545454545, 47.82608695652174, 47.82608695652174, 45.65217391304348, 42.857142857142854, 36.507936507936506, 46.03174603174603, 59.25925925925925, 44.44444444444444, 40.74074074074074, 45.45454545454545, 27.27272727272727, 48.484848484848484, 15.384615384615385, 38.46153846153847, 23.076923076923077, 41.07142857142857, 37.5, 58.92857142857143, 52.63157894736842, 47.368421052631575, 57.89473684210527, 25.806451612903224, 38.70967741935484, 35.483870967741936, 50.0, 27.77777777777778, 58.333333333333336, 48.78048780487805, 39.02439024390244, 51.21951219512195, 52.94117647058824, 35.294117647058826, 23.52941176470588, 47.05882352941176, 35.294117647058826, 29.411764705882355, 29.268292682926827, 29.268292682926827, 21.951219512195124, 45.45454545454545, 27.27272727272727, 36.36363636363637, 45.83333333333333, 60.416666666666664, 35.41666666666667, 58.333333333333336, 30.555555555555557, 47.22222222222222, 50.0, 10.0, 50.0, 43.75, 37.5, 40.625, 44.0, 52.0, 48.0, 60.71428571428571, 39.285714285714285, 53.57142857142857, 35.294117647058826, 58.82352941176471, 58.82352941176471, 48.484848484848484, 48.484848484848484, 51.515151515151516, 36.17021276595745, 40.42553191489361, 29.78723404255319, 46.15384615384615, 52.56410256410257, 28.205128205128204, 46.666666666666664, 46.666666666666664, 60.0, 41.81818181818181, 41.81818181818181, 40.0, 32.0, 32.0, 44.0, 43.333333333333336, 53.333333333333336, 30.0, 32.25806451612903, 58.06451612903226, 38.70967741935484, 22.58064516129032, 54.83870967741935, 54.83870967741935, 42.0, 40.0, 31.25, 37.5, 18.75, 29.03225806451613, 29.03225806451613, 22.58064516129032, 47.61904761904761, 47.61904761904761, 47.61904761904761, 34.69387755102041, 32.6530612244898, 32.6530612244898, 48.275862068965516, 34.48275862068966, 51.724137931034484, 53.333333333333336, 73.33333333333333, 53.333333333333336, 47.61904761904761, 52.38095238095239, 57.14285714285714, 16.666666666666664, 11.76470588235294, 61.53846153846154, 61.53846153846154, 46.15384615384615, 75.0, 68.75, 31.25, 47.368421052631575, 63.1578947368421, 47.368421052631575, 36.58536585365854, 72.22222222222221, 72.22222222222221, 36.11111111111111, 90.9090909090909, 45.45454545454545, 54.54545454545454, 7.142857142857142, 7.142857142857142, 57.14285714285714, 41.17647058823529, 41.17647058823529, 52.94117647058824, 46.666666666666664, 50.0, 83.33333333333334, 75.0, 64.28571428571429, 78.57142857142857, 50.0, 26.31578947368421, 31.57894736842105, 47.368421052631575, 80.0, 26.666666666666668, 60.0, 23.076923076923077, 23.076923076923077, 23.076923076923077, 13.333333333333334, 26.666666666666668, 66.66666666666666, 73.63636363636363, 76.36363636363637, 80.9090909090909, 30.555555555555557, 36.11111111111111, 87.2340425531915, 76.59574468085107, 56.38297872340425, 29.78723404255319, 31.914893617021278, 27.659574468085108, 63.1578947368421, 42.10526315789473, 42.10526315789473, 80.76923076923077, 88.46153846153845, 73.07692307692307, 14.814814814814813, 35.13513513513514, 48.64864864864865, 48.64864864864865, 52.0, 36.0, 81.48148148148148, 55.55555555555556, 81.48148148148148, 80.76923076923077, 88.46153846153845, 69.23076923076923, 72.72727272727273, 59.09090909090909, 72.72727272727273, 69.6969696969697, 69.6969696969697, 60.60606060606061, 76.92307692307693, 76.92307692307693, 69.23076923076923, 64.28571428571429, 78.57142857142857, 78.57142857142857, 52.17391304347826, 89.25619834710744, 80.99173553719008, 69.42148760330579, 33.33333333333333, 26.190476190476193, 40.476190476190474, 46.34146341463415, 26.82926829268293, 46.34146341463415, 46.15384615384615, 30.76923076923077, 53.84615384615385, 32.35294117647059, 17.647058823529413, 44.11764705882353, 37.142857142857146, 34.285714285714285, 22.857142857142858, 60.0, 66.66666666666666, 46.666666666666664, 42.857142857142854, 45.714285714285715, 48.57142857142857, 54.54545454545454, 27.27272727272727, 30.303030303030305, 50.0, 57.14285714285714, 25.0, 61.29032258064516, 32.25806451612903, 39.130434782608695, 33.33333333333333, 43.333333333333336, 43.333333333333336, 29.166666666666668, 44.44444444444444, 29.629629629629626, 25.925925925925924, 91.66666666666666, 25.0, 58.333333333333336, 29.411764705882355, 5.88235294117647, 29.411764705882355, 26.31578947368421, 57.89473684210527, 21.052631578947366, 45.94594594594595, 56.75675675675676, 45.94594594594595, 91.66666666666666, 79.16666666666666, 70.83333333333334, 43.90243902439025, 34.146341463414636, 58.536585365853654, 32.142857142857146, 46.42857142857143, 46.42857142857143, 13.333333333333334, 33.33333333333333, 46.666666666666664, 61.53846153846154, 33.33333333333333, 50.0, 58.333333333333336, 46.666666666666664, 53.333333333333336, 60.0, 39.130434782608695, 17.391304347826086, 73.91304347826086, 66.66666666666666, 66.66666666666666, 53.333333333333336, 10.78838174273859, 62.655601659751035, 62.655601659751035, 35.483870967741936, 52.0, 76.0, 76.66666666666667, 73.33333333333333, 53.333333333333336, 31.818181818181817, 50.0, 31.818181818181817, 46.15384615384615, 38.46153846153847, 46.15384615384615, 55.55555555555556, 37.03703703703704, 29.629629629629626, 51.85185185185185, 48.148148148148145, 33.33333333333333, 99.26470588235294, 97.79411764705883, 97.05882352941177, 16.3265306122449, 16.3265306122449, 16.3265306122449, 83.33333333333334, 60.416666666666664, 58.333333333333336, 45.588235294117645, 61.76470588235294, 57.14285714285714, 50.0, 21.428571428571427, 47.61904761904761, 37.5, 45.83333333333333, 53.333333333333336, 70.0, 50.0, 71.73913043478261, 45.65217391304348, 56.52173913043478, 32.25806451612903, 32.25806451612903, 48.38709677419355, 42.857142857142854, 38.095238095238095, 47.61904761904761, 46.42857142857143, 39.285714285714285, 39.285714285714285, 42.857142857142854, 38.095238095238095, 47.61904761904761, 90.9090909090909, 54.54545454545454, 72.72727272727273, 46.15384615384615, 36.92307692307693, 41.53846153846154, 51.28205128205128, 58.97435897435898, 30.76923076923077, 29.03225806451613, 51.61290322580645, 41.935483870967744, 45.0, 60.0, 45.0, 57.692307692307686, 42.30769230769231, 57.692307692307686, 40.0, 75.0, 65.0, 33.33333333333333, 41.66666666666667, 29.166666666666668, 19.230769230769234, 34.61538461538461, 34.61538461538461, 53.84615384615385, 50.0, 19.230769230769234, 42.857142857142854, 42.857142857142854, 42.857142857142854, 58.82352941176471, 58.82352941176471, 52.94117647058824, 62.857142857142854, 37.5, 54.166666666666664, 35.714285714285715, 42.857142857142854, 42.857142857142854, 58.82352941176471, 17.647058823529413, 52.94117647058824, 46.15384615384615, 50.0, 35.714285714285715, 22.22222222222222, 16.666666666666664, 44.44444444444444, 62.5, 21.052631578947366, 31.57894736842105, 26.31578947368421, 31.11111111111111, 44.44444444444444, 20.0, 40.0, 53.333333333333336, 37.5, 75.0, 20.833333333333336, 37.142857142857146, 57.14285714285714, 60.0, 53.333333333333336, 20.0, 43.333333333333336, 41.02564102564102, 30.76923076923077, 74.35897435897436, 9.523809523809524, 9.523809523809524, 42.857142857142854, 57.14285714285714, 57.14285714285714, 40.0, 60.86956521739131, 69.56521739130434, 60.86956521739131, 85.0, 65.0, 60.0, 64.28571428571429, 48.57142857142857, 55.714285714285715, 43.39622641509434, 37.735849056603776, 50.0, 46.15384615384615, 53.84615384615385, 58.333333333333336, 32.25806451612903, 54.54545454545454, 36.36363636363637, 72.72727272727273, 20.0, 60.0, 40.0, 40.0, 50.0, 43.75, 25.0, 54.54545454545454, 82.08955223880598, 26.31578947368421, 57.89473684210527, 63.1578947368421, 45.76271186440678, 60.0, 28.57142857142857, 57.14285714285714, 30.76923076923077, 28.57142857142857, 40.909090909090914, 50.0, 33.33333333333333, 33.33333333333333, 33.33333333333333, 25.0, 41.66666666666667, 33.33333333333333, 26.666666666666668, 26.666666666666668, 26.666666666666668, 46.666666666666664, 40.0, 47.82608695652174, 47.82608695652174, 66.66666666666666, 55.55555555555556, 61.111111111111114, 54.54545454545454, 40.909090909090914, 27.27272727272727, 93.33333333333333, 80.0, 26.666666666666668, 47.61904761904761, 38.095238095238095, 33.33333333333333, 31.25, 31.25, 43.75, 30.76923076923077, 57.692307692307686, 30.76923076923077, 40.625, 31.25, 37.5, 33.33333333333333, 33.33333333333333, 20.0, 22.22222222222222, 22.22222222222222, 38.88888888888889, 57.14285714285714, 28.57142857142857, 39.285714285714285, 30.76923076923077, 30.76923076923077, 38.46153846153847, 18.75, 46.875, 15.625, 46.15384615384615, 38.46153846153847, 46.15384615384615, 27.586206896551722, 62.06896551724138, 62.06896551724138, 38.88888888888889, 27.77777777777778, 38.88888888888889, 48.0, 32.0, 32.0, 28.125, 34.375, 37.5, 46.666666666666664, 40.0, 46.666666666666664, 30.76923076923077, 34.61538461538461, 26.923076923076923, 35.294117647058826, 23.52941176470588, 47.05882352941176, 40.53030303030303, 35.714285714285715, 21.428571428571427, 50.0, 41.66666666666667, 41.66666666666667, 50.0, 53.84615384615385, 53.84615384615385, 38.46153846153847, 54.736842105263165, 71.57894736842105, 77.89473684210526, 17.647058823529413, 41.17647058823529, 41.17647058823529, 60.0, 40.0, 20.0, 10.0, 10.0, 50.0, 66.66666666666666, 58.333333333333336, 25.0, 50.0, 25.0, 41.66666666666667, 35.714285714285715, 61.53846153846154, 36.36363636363637, 40.909090909090914, 45.45454545454545, 27.77777777777778, 27.77777777777778, 56.25, 56.25, 33.33333333333333, 50.0, 16.666666666666664, 41.77215189873418, 68.75, 37.5, 62.5, 38.46153846153847, 42.30769230769231, 30.76923076923077, 35.714285714285715, 57.14285714285714, 50.0, 57.692307692307686, 65.38461538461539, 34.61538461538461, 33.33333333333333, 33.33333333333333, 41.66666666666667, 48.717948717948715, 46.15384615384615, 61.53846153846154, 40.0, 46.666666666666664, 40.0, 47.82608695652174, 21.73913043478261, 35.8974358974359, 35.8974358974359, 48.717948717948715, 28.205128205128204, 100.0, 100.0, 56.25, 35.0, 55.00000000000001, 40.0, 68.88888888888889, 63.1578947368421, 52.63157894736842, 39.473684210526315, 30.89430894308943, 26.01626016260163, 29.268292682926827, 14.285714285714285, 38.095238095238095, 49.152542372881356, 24.503311258278146, 20.51282051282051, 34.61538461538461, 37.17948717948718, 31.182795698924732, 45.16129032258064, 36.0655737704918, 53.21100917431193, 44.166666666666664, 30.833333333333336, 47.05882352941176, 35.294117647058826, 47.05882352941176, 22.22222222222222, 33.33333333333333, 27.77777777777778, 21.428571428571427, 7.142857142857142, 64.28571428571429, 33.33333333333333, 44.44444444444444, 44.44444444444444, 25.0, 60.0, 44.0, 33.33333333333333, 28.000000000000004, 32.0, 40.0, 45.45454545454545, 27.27272727272727, 63.63636363636363, 48.148148148148145, 51.85185185185185, 29.629629629629626, 28.57142857142857, 50.0, 42.857142857142854, 21.73913043478261, 52.17391304347826, 52.17391304347826, 63.63636363636363, 42.857142857142854, 34.42622950819672, 34.54545454545455, 50.0, 40.0, 50.0, 50.0, 25.0, 56.75675675675676, 33.33333333333333, 58.333333333333336, 16.666666666666664, 34.61538461538461, 40.0, 33.33333333333333, 26.666666666666668, 43.75, 18.75, 58.65384615384615, 94.23076923076923, 35.57692307692308, 50.0, 50.0, 33.33333333333333, 43.75, 37.5, 31.25, 28.57142857142857, 21.428571428571427, 7.142857142857142, 69.23076923076923, 23.076923076923077, 38.46153846153847, 17.857142857142858, 34.22053231939163, 35.714285714285715, 42.857142857142854, 46.666666666666664, 0.0, 25.0, 35.714285714285715, 28.57142857142857, 85.71428571428571, 71.42857142857143, 100.0, 61.111111111111114, 38.88888888888889, 33.33333333333333, 26.08695652173913, 43.47826086956522, 73.91304347826086, 56.25, 46.15384615384615, 46.666666666666664, 46.666666666666664, 53.333333333333336, 33.33333333333333, 44.44444444444444, 46.15384615384615, 23.076923076923077, 46.15384615384615, 82.35294117647058, 76.47058823529412, 82.35294117647058, 94.11764705882352, 76.47058823529412, 64.70588235294117, 64.28571428571429, 71.42857142857143, 48.148148148148145, 48.148148148148145, 44.44444444444444, 7.6923076923076925, 38.46153846153847, 46.15384615384615, 38.46153846153847, 7.6923076923076925, 53.84615384615385, 38.46153846153847, 53.84615384615385, 38.46153846153847, 63.1578947368421, 36.84210526315789, 63.1578947368421, 41.66666666666667, 33.33333333333333, 58.333333333333336, 33.33333333333333, 33.33333333333333, 58.333333333333336, 54.54545454545454, 63.63636363636363, 63.63636363636363, 54.54545454545454, 36.36363636363637, 36.36363636363637, 80.0, 86.66666666666667, 73.33333333333333, 36.84210526315789, 42.10526315789473, 36.84210526315789, 52.94117647058824, 52.94117647058824, 23.52941176470588, 33.33333333333333, 56.25, 50.0, 12.5, 31.818181818181817, 31.818181818181817, 68.18181818181817, 33.33333333333333, 50.0, 38.095238095238095, 47.61904761904761, 44.44444444444444, 33.33333333333333, 33.33333333333333, 45.83333333333333, 42.857142857142854, 42.857142857142854, 33.33333333333333, 50.0, 41.66666666666667, 16.666666666666664, 61.53846153846154, 76.92307692307693, 38.46153846153847, 41.66666666666667, 47.61904761904761, 23.809523809523807, 38.095238095238095, 55.55555555555556, 44.44444444444444, 51.85185185185185, 63.1578947368421, 52.63157894736842, 31.57894736842105, 66.66666666666666, 44.44444444444444, 50.0, 45.0, 50.0, 35.0, 59.25925925925925, 70.37037037037037, 42.592592592592595, 27.77777777777778, 27.77777777777778, 44.44444444444444, 26.08695652173913, 26.53061224489796, 38.46153846153847, 20.51282051282051, 38.46153846153847, 55.00000000000001, 20.0, 50.0, 31.57894736842105, 47.368421052631575, 42.10526315789473, 47.05882352941176, 43.75, 56.25, 62.5, 72.41379310344827, 44.827586206896555, 37.5, 25.0, 75.0, 33.33333333333333, 58.333333333333336, 33.33333333333333, 40.0, 20.0, 40.0, 50.0, 42.10526315789473, 31.57894736842105, 61.53846153846154, 38.46153846153847, 15.384615384615385, 38.46153846153847, 38.46153846153847, 46.15384615384615, 59.25925925925925, 55.55555555555556, 48.148148148148145, 33.33333333333333, 27.77777777777778, 33.33333333333333, 41.66666666666667, 41.66666666666667, 47.05882352941176, 32.142857142857146, 32.142857142857146, 46.42857142857143, 20.0, 40.0, 60.0, 47.27272727272727, 12.727272727272727, 69.0909090909091, 28.57142857142857, 42.857142857142854, 42.857142857142854, 38.46153846153847, 53.84615384615385, 38.46153846153847, 25.0, 8.333333333333332, 41.66666666666667, 35.714285714285715, 35.714285714285715, 35.714285714285715, 56.25, 31.25, 68.75, 62.857142857142854, 31.428571428571427, 17.142857142857142, 10.0, 50.0, 45.83333333333333, 16.666666666666664, 35.294117647058826, 29.411764705882355, 55.88235294117647, 57.14285714285714, 46.42857142857143, 53.57142857142857, 23.809523809523807, 61.904761904761905, 57.14285714285714, 37.5, 31.25, 25.0, 27.77777777777778, 38.88888888888889, 22.22222222222222, 58.333333333333336, 25.0, 41.66666666666667, 26.666666666666668, 60.0, 53.333333333333336, 41.17647058823529, 35.294117647058826, 17.647058823529413, 38.59649122807017, 34.61538461538461, 29.411764705882355, 34.61538461538461, 23.076923076923077, 30.0, 55.00000000000001, 25.0, 26.666666666666668, 43.333333333333336, 40.0, 7.6923076923076925, 38.46153846153847, 23.076923076923077, 53.333333333333336, 53.333333333333336, 60.0, 62.5, 56.00000000000001, 36.0, 40.0, 43.47826086956522, 43.47826086956522, 39.130434782608695, 42.42424242424242, 45.45454545454545, 33.33333333333333, 34.78260869565217, 34.78260869565217, 21.73913043478261, 41.17647058823529, 50.0, 18.181818181818183, 45.45454545454545, 18.181818181818183, 62.5, 50.0, 54.166666666666664, 50.0, 40.0, 20.0, 33.33333333333333, 41.66666666666667, 41.66666666666667, 20.0, 20.0, 66.66666666666666, 50.0, 25.0, 46.666666666666664, 33.33333333333333, 46.666666666666664, 57.89473684210527, 58.333333333333336, 53.84615384615385, 75.0, 41.66666666666667, 55.00000000000001, 43.43434343434344, 66.66666666666666, 76.92307692307693, 30.0, 20.0, 60.0, 66.66666666666666, 66.66666666666666, 50.0, 28.57142857142857, 50.0, 57.14285714285714, 59.09090909090909, 18.181818181818183, 40.909090909090914, 61.904761904761905, 76.19047619047619, 77.77777777777779, 22.22222222222222, 44.44444444444444, 29.411764705882355, 29.411764705882355, 23.52941176470588, 35.294117647058826, 23.52941176470588, 35.294117647058826, 64.70588235294117, 52.94117647058824, 70.58823529411765, 13.333333333333334, 53.333333333333336, 20.0, 42.10526315789473, 26.31578947368421, 63.1578947368421, 22.22222222222222, 44.44444444444444, 38.88888888888889, 25.0, 41.66666666666667, 33.33333333333333, 66.66666666666666, 44.44444444444444, 22.22222222222222, 31.57894736842105, 42.10526315789473, 42.10526315789473, 60.0, 55.00000000000001, 70.0, 64.70588235294117, 52.94117647058824, 54.54545454545454, 72.72727272727273, 45.45454545454545, 77.27272727272727, 31.818181818181817, 36.36363636363637, 77.77777777777779, 72.22222222222221, 33.33333333333333, 80.0, 62.857142857142854, 71.42857142857143, 59.09090909090909, 40.909090909090914, 27.27272727272727, 68.75, 43.75, 80.0, 13.333333333333334, 20.0, 83.33333333333334, 25.0, 8.333333333333332, 50.0, 14.285714285714285, 48.275862068965516, 75.86206896551724, 44.827586206896555, 66.66666666666666, 26.666666666666668, 20.0, 36.36363636363637, 54.54545454545454, 80.0, 15.0, 57.89473684210527, 21.052631578947366, 31.57894736842105, 26.666666666666668, 60.0, 53.333333333333336, 32.0, 58.333333333333336, 33.33333333333333, 57.14285714285714, 61.904761904761905, 28.57142857142857, 41.66666666666667, 12.5, 37.5, 33.33333333333333, 29.166666666666668, 50.0, 41.66666666666667, 41.66666666666667, 58.333333333333336, 22.22222222222222, 50.0, 33.33333333333333, 42.857142857142854, 19.047619047619047, 50.0, 61.111111111111114, 66.66666666666666, 50.0, 57.14285714285714, 35.714285714285715, 53.333333333333336, 53.333333333333336, 60.0, 45.45454545454545, 54.54545454545454, 36.36363636363637, 53.84615384615385, 61.53846153846154, 38.46153846153847, 64.70588235294117, 41.17647058823529, 58.82352941176471, 33.33333333333333, 33.33333333333333, 41.66666666666667, 18.181818181818183, 0.0, 36.36363636363637, 61.53846153846154, 30.76923076923077, 61.53846153846154, 47.61904761904761, 33.33333333333333, 19.047619047619047, 68.96551724137932, 50.86206896551724, 78.44827586206897, 78.57142857142857, 42.857142857142854, 42.857142857142854, 91.96428571428571, 54.46428571428571, 52.67857142857143, 47.368421052631575, 63.1578947368421, 31.57894736842105, 35.0, 45.0, 45.0, 33.33333333333333, 41.66666666666667, 33.33333333333333, 36.36363636363637, 45.45454545454545, 63.63636363636363, 53.84615384615385, 38.46153846153847, 84.61538461538461, 63.63636363636363, 0.0, 33.33333333333333, 58.333333333333336, 58.333333333333336, 20.0, 52.0, 60.0, 54.54545454545454, 54.54545454545454, 72.72727272727273, 8.333333333333332, 33.33333333333333, 38.88888888888889, 33.33333333333333, 16.666666666666664, 58.333333333333336, 50.0, 38.46153846153847, 61.53846153846154, 38.46153846153847, 30.76923076923077, 26.923076923076923, 42.30769230769231, 62.96296296296296, 25.925925925925924, 48.148148148148145, 26.666666666666668, 33.33333333333333, 40.0, 38.46153846153847, 23.076923076923077, 53.84615384615385, 33.33333333333333, 33.33333333333333, 58.333333333333336, 30.76923076923077, 38.46153846153847, 53.84615384615385, 4.0, 20.0, 44.0, 62.5, 56.52173913043478, 60.86956521739131, 60.86956521739131, 25.0, 58.333333333333336, 8.333333333333332, 53.333333333333336, 66.66666666666666, 47.05882352941176, 40.0, 6.666666666666667, 0.0, 47.05882352941176, 40.909090909090914, 40.909090909090914, 40.909090909090914, 66.66666666666666, 25.0, 33.33333333333333, 78.57142857142857, 69.23076923076923, 27.77777777777778, 63.63636363636363, 27.27272727272727, 63.63636363636363, 70.83333333333334, 75.0, 37.5, 47.05882352941176, 41.17647058823529, 52.94117647058824, 18.181818181818183, 54.54545454545454, 72.72727272727273, 25.0, 56.25, 23.076923076923077, 50.0, 37.5, 25.0, 37.5, 36.36363636363637, 31.818181818181817, 18.181818181818183, 27.586206896551722, 37.93103448275862, 58.620689655172406, 41.66666666666667, 33.33333333333333, 50.0, 65.0, 55.00000000000001, 90.0, 41.66666666666667, 27.027027027027028, 21.62162162162162, 40.54054054054054, 47.45762711864407, 41.66666666666667, 37.5, 12.5, 44.44444444444444, 33.33333333333333, 22.22222222222222, 42.10526315789473, 52.63157894736842, 40.476190476190474, 33.33333333333333, 40.476190476190474, 58.333333333333336, 41.66666666666667, 58.333333333333336, 36.36363636363637, 40.909090909090914, 45.45454545454545, 33.33333333333333, 47.22222222222222, 50.0, 61.29032258064516, 29.629629629629626, 32.25806451612903, 12.903225806451612, 39.39393939393939, 51.515151515151516, 10.0, 16.666666666666664, 69.23076923076923, 38.46153846153847, 43.75, 43.75, 56.25, 45.0, 45.0, 50.0, 46.875, 50.0, 35.294117647058826, 53.84615384615385, 41.81818181818181, 34.54545454545455, 32.72727272727273, 37.68115942028986, 27.536231884057973, 31.88405797101449, 54.761904761904766, 33.33333333333333, 30.0, 43.333333333333336, 48.148148148148145, 44.44444444444444, 37.03703703703704, 48.38709677419355, 12.903225806451612, 29.03225806451613, 40.0, 57.49999999999999, 47.5, 53.333333333333336, 73.33333333333333, 20.0, 60.60606060606061, 38.70967741935484, 40.32258064516129, 40.74074074074074, 37.03703703703704, 51.85185185185185, 69.54022988505747, 40.229885057471265, 25.862068965517242, 38.63636363636363, 36.36363636363637, 17.77777777777778, 45.83333333333333, 72.22222222222221, 25.53191489361702, 72.0, 48.0, 36.0, 71.42857142857143, 37.5, 37.5, 40.54054054054054, 61.111111111111114, 58.333333333333336, 73.68421052631578, 47.368421052631575, 78.94736842105263, 66.10169491525424, 54.23728813559322, 48.717948717948715, 28.205128205128204, 43.58974358974359, 35.714285714285715, 28.57142857142857, 42.857142857142854, 19.230769230769234, 15.384615384615385, 19.230769230769234, 63.63636363636363, 56.81818181818182, 43.18181818181818, 31.428571428571427, 51.42857142857142, 54.285714285714285, 71.42857142857143, 71.42857142857143, 35.714285714285715, 77.27272727272727, 59.09090909090909, 59.09090909090909, 45.0, 36.36363636363637, 43.18181818181818, 38.63636363636363, 21.428571428571427, 50.0, 42.857142857142854, 37.5, 29.166666666666668, 50.0, 44.11764705882353, 52.94117647058824, 50.0, 21.818181818181817, 29.09090909090909, 56.41025641025641, 56.41025641025641, 75.0, 46.42857142857143, 14.285714285714285, 61.81818181818181, 70.0, 60.0, 70.0, 45.45454545454545, 51.515151515151516, 45.45454545454545, 35.714285714285715, 38.095238095238095, 61.904761904761905, 19.607843137254903, 15.686274509803921, 100.0, 88.88888888888889, 22.22222222222222, 69.23076923076923, 38.46153846153847, 62.5, 51.85185185185185, 51.85185185185185, 66.66666666666666, 30.434782608695656, 56.52173913043478, 47.82608695652174, 46.42857142857143, 32.142857142857146, 27.906976744186046, 42.028985507246375, 50.0, 62.7906976744186, 46.51162790697674, 39.0625, 59.375, 30.693069306930692, 90.32258064516128, 90.32258064516128, 90.32258064516128, 82.14285714285714, 82.14285714285714, 82.14285714285714, 90.625, 90.625, 90.625, 100.0, 100.0, 100.0, 97.14285714285714, 97.14285714285714, 97.14285714285714, 100.0, 100.0, 100.0, 92.3076923076923, 92.3076923076923, 92.3076923076923, 92.5925925925926, 92.5925925925926, 92.5925925925926, 100.0, 100.0, 100.0, 100.0, 100.0, 100.0, 68.29268292682927, 23.52941176470588, 47.05882352941176, 17.647058823529413, 39.473684210526315, 44.73684210526316, 52.63157894736842, 41.935483870967744, 45.16129032258064, 29.03225806451613, 44.18604651162791, 27.906976744186046, 34.883720930232556, 31.03448275862069, 31.03448275862069, 41.37931034482759, 68.57142857142857, 31.428571428571427, 60.0, 55.55555555555556, 55.55555555555556, 61.111111111111114, 23.076923076923077, 23.076923076923077, 15.384615384615385, 33.33333333333333, 26.666666666666668, 40.0, 40.0, 80.0, 40.0, 80.0, 13.333333333333334, 33.33333333333333, 50.0, 27.77777777777778, 33.33333333333333, 46.666666666666664, 37.5, 25.0, 37.5, 26.666666666666668, 40.0, 26.666666666666668, 58.333333333333336, 58.333333333333336, 58.333333333333336, 77.77777777777779, 77.77777777777779, 77.77777777777779, 38.70967741935484, 25.806451612903224, 19.35483870967742, 41.17647058823529, 35.294117647058826, 35.294117647058826, 20.0, 36.666666666666664, 30.0, 65.0, 88.88888888888889, 26.666666666666668, 26.666666666666668, 83.78378378378379, 62.16216216216216, 13.513513513513514, 40.0, 56.00000000000001, 80.95238095238095, 66.66666666666666, 42.30769230769231, 53.84615384615385, 42.30769230769231, 37.5, 27.500000000000004, 14.285714285714285, 21.428571428571427, 21.428571428571427, 46.15384615384615, 38.46153846153847, 47.16981132075472, 42.592592592592595, 56.00000000000001, 8.0, 64.0, 42.10526315789473, 36.84210526315789, 41.37931034482759, 48.275862068965516, 37.93103448275862, 40.0, 50.0, 35.0, 40.54054054054054, 40.54054054054054, 32.432432432432435, 40.54054054054054, 16.666666666666664, 22.22222222222222, 27.77777777777778, 28.57142857142857, 50.0, 51.85185185185185, 43.47826086956522, 47.82608695652174, 43.47826086956522, 53.84615384615385, 30.76923076923077, 46.15384615384615, 38.88888888888889, 61.111111111111114, 44.44444444444444, 36.666666666666664, 30.0, 26.666666666666668, 60.0, 34.48275862068966, 31.03448275862069, 57.14285714285714, 33.33333333333333, 19.047619047619047, 40.0, 26.666666666666668, 26.666666666666668, 32.142857142857146, 35.714285714285715, 21.428571428571427, 28.000000000000004, 44.0, 56.00000000000001, 40.909090909090914, 31.818181818181817, 36.36363636363637, 65.0, 15.0, 70.0, 74.35897435897436, 44.73684210526316, 28.947368421052634, 43.18181818181818, 27.27272727272727, 29.545454545454547, 27.27272727272727, 39.39393939393939, 45.45454545454545, 47.45762711864407, 47.45762711864407, 35.59322033898305, 40.0, 75.86206896551724, 27.586206896551722, 55.172413793103445, 48.93617021276596, 31.756756756756754, 37.07865168539326, 33.92857142857143, 40.19607843137255, 40.74074074074074, 44.15584415584416, 35.13513513513514, 44.827586206896555, 24.137931034482758, 58.620689655172406, 44.827586206896555, 58.620689655172406, 58.620689655172406, 29.78723404255319, 38.297872340425535, 34.04255319148936, 32.3943661971831, 29.577464788732392, 30.985915492957744, 32.142857142857146, 32.142857142857146, 32.142857142857146, 40.0, 33.33333333333333, 33.33333333333333, 38.46153846153847, 38.46153846153847, 43.07692307692308, 58.333333333333336, 54.166666666666664, 41.66666666666667, 60.0, 80.0, 40.0, 80.0, 46.666666666666664, 53.333333333333336, 34.285714285714285, 22.857142857142858, 57.14285714285714, 41.37931034482759, 31.03448275862069, 44.827586206896555, 35.714285714285715, 40.74074074074074, 24.0, 24.0, 31.25, 75.0, 48.93617021276596, 54.54545454545454, 27.27272727272727, 36.36363636363637, 27.27272727272727, 36.36363636363637, 44.680851063829785, 76.92307692307693, 76.92307692307693, 92.3076923076923, 69.23076923076923, 46.15384615384615, 53.84615384615385, 23.076923076923077, 43.47826086956522, 13.043478260869565, 56.52173913043478, 38.70967741935484, 45.16129032258064, 35.483870967741936, 35.294117647058826, 26.47058823529412, 63.1578947368421, 68.42105263157895, 47.368421052631575, 54.166666666666664, 34.146341463414636, 39.02439024390244, 31.70731707317073, 66.66666666666666, 60.0, 20.0, 64.28571428571429, 42.857142857142854, 57.14285714285714, 47.368421052631575, 50.0, 45.16129032258064, 30.555555555555557, 36.11111111111111, 44.44444444444444, 30.0, 47.5, 43.24324324324324, 65.21739130434783, 53.84615384615385, 46.15384615384615, 38.46153846153847, 39.77272727272727, 41.46341463414634, 47.61904761904761, 59.32203389830508, 49.152542372881356, 54.54545454545454, 54.54545454545454, 73.33333333333333, 47.368421052631575, 46.42857142857143, 72.72727272727273, 50.0, 76.92307692307693, 53.84615384615385, 50.0, 60.0, 43.75, 53.84615384615385, 74.19354838709677, 38.70967741935484, 52.17391304347826, 41.66666666666667, 78.26086956521739, 41.17647058823529, 35.294117647058826, 54.166666666666664, 38.46153846153847, 21.311475409836063, 56.25, 40.625, 27.27272727272727, 27.27272727272727, 31.03448275862069, 24.137931034482758, 27.586206896551722, 54.54545454545454, 45.45454545454545, 45.45454545454545, 69.23076923076923, 23.076923076923077, 61.53846153846154, 80.0, 90.0, 22.727272727272727, 27.27272727272727, 35.294117647058826, 52.94117647058824, 35.294117647058826, 62.5, 87.5, 87.5, 37.5, 46.875, 40.625, 27.77777777777778, 38.88888888888889, 63.888888888888886, 51.21951219512195, 51.21951219512195, 43.75, 35.41666666666667, 39.58333333333333, 43.47826086956522, 13.043478260869565, 21.73913043478261, 75.0, 75.0, 40.0, 60.0, 51.42857142857142, 23.076923076923077, 51.724137931034484, 78.57142857142857, 80.95238095238095, 4.761904761904762, 51.578947368421055, 47.95918367346938, 12.0, 36.0, 40.0, 45.83333333333333, 36.666666666666664, 33.33333333333333, 50.0, 21.21212121212121, 45.45454545454545, 51.515151515151516, 57.99999999999999, 12.0, 42.0, 44.44444444444444, 44.44444444444444, 55.55555555555556, 10.526315789473683, 57.89473684210527, 50.0, 25.0, 47.82608695652174, 47.82608695652174, 34.78260869565217, 57.49999999999999, 47.5, 43.13725490196079, 43.13725490196079, 27.450980392156865, 22.22222222222222, 33.33333333333333, 33.33333333333333, 56.75675675675676, 43.24324324324324, 47.61904761904761, 45.16129032258064, 38.70967741935484, 29.03225806451613, 63.41463414634146, 53.65853658536586, 46.808510638297875, 40.42553191489361, 24.242424242424242, 45.45454545454545, 40.0, 42.5, 35.0, 40.0, 55.172413793103445, 44.827586206896555, 48.275862068965516, 40.74074074074074, 37.03703703703704, 22.22222222222222, 22.22222222222222, 27.77777777777778, 30.76923076923077, 46.666666666666664, 53.333333333333336, 40.0, 83.33333333333334, 77.77777777777779, 33.33333333333333, 23.809523809523807, 19.047619047619047, 31.57894736842105, 47.368421052631575, 31.57894736842105, 52.94117647058824, 51.162790697674424, 29.629629629629626, 37.03703703703704, 37.03703703703704, 43.75, 43.75, 43.75, 50.0, 50.0, 20.0, 40.0, 40.0, 33.33333333333333, 45.0, 58.620689655172406, 41.37931034482759, 20.689655172413794, 50.0, 50.0, 70.0, 17.142857142857142, 31.57894736842105, 57.57575757575758, 45.45454545454545, 42.42424242424242, 57.692307692307686, 37.5, 56.25, 50.0, 41.66666666666667, 50.0, 25.0, 70.0, 15.0, 55.00000000000001, 38.46153846153847, 39.130434782608695, 50.0, 45.83333333333333, 55.55555555555556, 27.500000000000004, 40.0, 27.500000000000004, 36.0, 44.0, 60.0, 20.0, 13.333333333333334, 20.0, 47.82608695652174, 60.86956521739131, 56.52173913043478, 53.84615384615385, 61.53846153846154, 71.42857142857143, 71.42857142857143, 57.14285714285714, 75.0, 41.66666666666667, 33.33333333333333, 48.717948717948715, 38.46153846153847, 58.97435897435898, 15.384615384615385, 46.15384615384615, 38.46153846153847, 16.666666666666664, 25.0, 33.33333333333333, 53.333333333333336, 73.33333333333333, 46.666666666666664, 38.46153846153847, 53.84615384615385, 38.46153846153847, 50.0, 44.44444444444444, 44.44444444444444, 22.22222222222222, 16.666666666666664, 33.33333333333333, 27.27272727272727, 27.27272727272727, 18.181818181818183, 22.22222222222222, 22.22222222222222, 33.33333333333333, 61.111111111111114, 77.77777777777779, 38.88888888888889, 42.857142857142854, 28.57142857142857, 35.714285714285715, 71.42857142857143, 21.428571428571427, 42.857142857142854, 42.857142857142854, 28.57142857142857, 42.857142857142854, 30.0, 40.0, 25.0, 75.0, 58.333333333333336, 66.66666666666666, 41.66666666666667, 66.66666666666666, 76.19047619047619, 66.66666666666666, 85.71428571428571, 46.15384615384615, 53.84615384615385, 38.46153846153847, 43.75, 37.5, 50.0, 66.66666666666666, 33.33333333333333, 58.333333333333336, 54.54545454545454, 40.909090909090914, 27.27272727272727, 55.00000000000001, 65.0, 55.00000000000001, 31.57894736842105, 42.10526315789473, 36.84210526315789, 33.33333333333333, 66.66666666666666, 58.333333333333336, 86.95652173913044, 56.52173913043478, 39.130434782608695, 77.27272727272727, 50.0, 63.63636363636363, 52.63157894736842, 31.57894736842105, 36.84210526315789, 60.0, 13.333333333333334, 46.666666666666664, 86.66666666666667, 66.66666666666666, 20.0, 46.15384615384615, 15.384615384615385, 61.53846153846154, 76.19047619047619, 71.42857142857143, 66.66666666666666, 23.076923076923077, 38.46153846153847, 46.15384615384615, 57.14285714285714, 57.14285714285714, 33.33333333333333, 42.857142857142854, 54.761904761904766, 43.75, 18.75, 25.0, 35.714285714285715, 35.714285714285715, 35.714285714285715, 44.44444444444444, 30.555555555555557, 36.11111111111111, 55.55555555555556, 61.111111111111114, 50.0, 56.666666666666664, 40.0, 50.0, 50.0, 66.66666666666666, 15.384615384615385, 46.15384615384615, 61.53846153846154, 58.333333333333336, 75.0, 50.0, 35.714285714285715, 50.0, 42.857142857142854, 25.0, 33.33333333333333, 41.66666666666667, 16.666666666666664, 16.666666666666664, 50.0, 50.0, 28.57142857142857, 64.28571428571429, 21.428571428571427, 58.333333333333336, 58.333333333333336, 62.5, 25.0, 28.57142857142857, 11.76470588235294, 64.70588235294117, 58.82352941176471, 62.06896551724138, 51.724137931034484, 31.03448275862069, 5.0, 25.0, 30.0, 23.076923076923077, 61.53846153846154, 61.53846153846154, 70.0, 70.0, 25.0, 53.84615384615385, 16.0, 28.57142857142857, 58.82352941176471, 58.82352941176471, 23.52941176470588, 38.46153846153847, 15.384615384615385, 61.53846153846154, 30.0, 80.0, 35.0, 33.33333333333333, 40.74074074074074, 33.33333333333333, 46.666666666666664, 53.333333333333336, 33.33333333333333, 29.629629629629626, 33.33333333333333, 29.629629629629626, 71.42857142857143, 35.714285714285715, 0.0, 50.0, 62.06896551724138, 55.172413793103445, 94.44444444444444, 0.0, 25.0, 72.72727272727273, 72.72727272727273, 45.45454545454545, 40.0, 26.666666666666668, 26.666666666666668, 33.33333333333333, 25.0, 19.444444444444446, 33.33333333333333, 33.33333333333333, 75.0, 44.73684210526316, 52.63157894736842, 55.26315789473685, 59.57446808510638, 51.06382978723404, 53.191489361702125, 31.25, 31.25, 50.0, 56.52173913043478, 26.08695652173913, 56.52173913043478, 30.76923076923077, 23.076923076923077, 76.92307692307693, 17.647058823529413, 70.58823529411765, 52.94117647058824, 33.33333333333333, 80.0, 20.0, 60.0, 57.89473684210527, 26.31578947368421, 36.84210526315789, 30.434782608695656, 4.3478260869565215, 52.17391304347826, 95.0, 65.0, 55.00000000000001, 92.3076923076923, 65.38461538461539, 19.230769230769234, 50.0, 62.5, 56.25, 30.76923076923077, 15.384615384615385, 23.076923076923077, 33.33333333333333, 25.0, 33.33333333333333, 63.1578947368421, 42.10526315789473, 26.31578947368421, 66.66666666666666, 44.44444444444444, 44.44444444444444, 56.25, 31.25, 31.25, 42.857142857142854, 42.857142857142854, 35.714285714285715, 19.35483870967742, 35.483870967741936, 41.935483870967744, 40.0, 53.333333333333336, 26.666666666666668, 56.25, 56.25, 37.5, 62.5, 43.75, 12.5, 35.0, 35.0, 55.00000000000001, 28.57142857142857, 25.0, 21.428571428571427, 7.6923076923076925, 23.076923076923077, 30.76923076923077, 50.0, 50.0, 50.0, 26.666666666666668, 26.666666666666668, 46.666666666666664, 50.0, 10.0, 40.0, 66.66666666666666, 53.333333333333336, 34.285714285714285, 51.42857142857142, 51.42857142857142, 58.06451612903226, 48.38709677419355, 41.935483870967744, 25.0, 41.66666666666667, 41.66666666666667, 50.0, 21.428571428571427, 28.57142857142857, 63.63636363636363, 27.27272727272727, 45.45454545454545, 75.0, 31.25, 6.25, 53.84615384615385, 15.384615384615385, 15.384615384615385, 38.46153846153847, 42.30769230769231, 57.692307692307686, 31.25, 31.25, 37.5, 27.77777777777778, 44.44444444444444, 33.33333333333333, 22.22222222222222, 38.88888888888889, 38.88888888888889, 17.647058823529413, 47.05882352941176, 41.17647058823529, 23.809523809523807, 38.095238095238095, 28.57142857142857, 50.0, 16.666666666666664, 8.333333333333332, 50.0, 33.33333333333333, 41.66666666666667, 33.33333333333333, 13.333333333333334, 60.71428571428571, 35.714285714285715, 64.28571428571429, 64.70588235294117, 52.94117647058824, 35.294117647058826, 21.428571428571427, 50.0, 35.714285714285715, 14.285714285714285, 66.66666666666666, 33.33333333333333, 73.33333333333333, 50.0, 36.36363636363637, 45.45454545454545, 66.66666666666666, 48.484848484848484, 66.66666666666666, 52.38095238095239, 52.38095238095239, 42.857142857142854, 42.857142857142854, 42.857142857142854, 38.095238095238095, 50.0, 33.33333333333333, 41.66666666666667, 28.57142857142857, 85.71428571428571, 28.57142857142857, 38.88888888888889, 44.44444444444444, 38.88888888888889, 81.25, 81.25, 12.5, 60.0, 30.0, 20.0, 22.727272727272727, 50.0, 36.36363636363637, 70.0, 35.0, 60.0, 23.076923076923077, 16.666666666666664, 50.0, 83.33333333333334, 25.0, 16.666666666666664, 41.66666666666667, 33.33333333333333, 46.666666666666664, 33.33333333333333, 47.05882352941176, 35.294117647058826, 47.05882352941176, 50.0, 57.14285714285714, 50.0, 21.052631578947366, 52.63157894736842, 42.10526315789473, 66.66666666666666, 33.33333333333333, 41.66666666666667, 97.76119402985076, 100.0, 97.01492537313433, 37.03703703703704, 29.629629629629626, 44.44444444444444, 33.33333333333333, 46.666666666666664, 60.0, 61.53846153846154, 23.076923076923077, 46.15384615384615, 38.46153846153847, 23.076923076923077, 30.76923076923077, 35.0, 35.0, 35.0, 27.77777777777778, 11.11111111111111, 16.666666666666664, 33.33333333333333, 19.047619047619047, 38.095238095238095, 43.75, 59.375, 53.125, 99.23076923076923, 99.23076923076923, 99.23076923076923, 35.714285714285715, 25.0, 28.57142857142857, 35.714285714285715, 42.857142857142854, 28.57142857142857, 81.25, 56.25, 50.0, 53.333333333333336, 100.0, 100.0, 97.63779527559055, 85.71428571428571, 28.57142857142857, 47.82608695652174, 47.82608695652174, 43.47826086956522, 28.57142857142857, 33.33333333333333, 57.14285714285714, 18.75, 37.5, 56.25, 96.66666666666667, 100.0, 100.0, 34.78260869565217, 34.78260869565217, 21.73913043478261, 18.181818181818183, 48.717948717948715, 25.64102564102564, 21.052631578947366, 26.31578947368421, 42.10526315789473, 100.0, 100.0, 100.0, 73.33333333333333, 46.666666666666664, 13.333333333333334, 33.33333333333333, 59.09090909090909, 77.27272727272727, 40.909090909090914, 59.09090909090909, 53.333333333333336, 53.333333333333336, 46.666666666666664, 20.0, 33.33333333333333, 33.33333333333333, 33.33333333333333, 50.0, 54.054054054054056, 70.27027027027027, 72.97297297297297, 76.92307692307693, 23.076923076923077, 38.46153846153847, 86.66666666666667, 93.33333333333333, 60.0, 60.0, 35.0, 40.0, 55.55555555555556, 22.22222222222222, 50.0, 38.46153846153847, 7.6923076923076925, 46.15384615384615, 41.17647058823529, 58.82352941176471, 58.82352941176471, 86.66666666666667, 73.33333333333333, 60.0, 42.857142857142854, 35.714285714285715, 57.14285714285714, 60.0, 80.0, 80.0, 53.333333333333336, 26.666666666666668, 46.666666666666664, 63.1578947368421, 47.368421052631575, 57.89473684210527, 25.0, 50.0, 41.66666666666667, 57.14285714285714, 71.42857142857143, 21.428571428571427, 46.15384615384615, 61.53846153846154, 23.076923076923077, 43.75, 56.25, 50.0, 56.25, 50.0, 56.25, 21.428571428571427, 42.857142857142854, 64.28571428571429, 28.000000000000004, 32.0, 60.0, 46.666666666666664, 57.89473684210527, 73.68421052631578, 47.368421052631575, 53.84615384615385, 30.76923076923077, 46.15384615384615, 71.42857142857143, 32.142857142857146, 75.0, 78.94736842105263, 84.21052631578947, 84.21052631578947, 44.827586206896555, 31.03448275862069, 31.03448275862069, 42.30769230769231, 38.46153846153847, 38.46153846153847, 46.15384615384615, 61.53846153846154, 38.46153846153847, 64.28571428571429, 57.14285714285714, 57.14285714285714, 50.0, 50.0, 21.428571428571427, 51.85185185185185, 55.55555555555556, 25.925925925925924, 69.23076923076923, 76.92307692307693, 76.92307692307693, 38.46153846153847, 84.61538461538461, 30.76923076923077, 62.96296296296296, 66.66666666666666, 37.03703703703704, 62.5, 62.5, 75.0, 57.14285714285714, 50.0, 75.0, 58.333333333333336, 50.0, 60.0, 66.66666666666666, 7.6923076923076925, 53.84615384615385, 30.76923076923077, 50.0, 50.0, 50.0, 50.0, 21.428571428571427, 21.428571428571427, 30.76923076923077, 23.076923076923077, 30.76923076923077, 95.23809523809523, 33.33333333333333, 38.095238095238095, 52.17391304347826, 17.391304347826086, 65.21739130434783, 50.0, 58.333333333333336, 25.0, 38.46153846153847, 23.333333333333332, 88.46153846153845, 30.76923076923077, 38.46153846153847, 25.0, 31.25, 43.75, 58.82352941176471, 35.0, 25.0, 35.0, 73.33333333333333, 60.0, 40.0, 41.935483870967744, 35.483870967741936, 45.16129032258064, 70.0, 35.0, 26.31578947368421, 47.368421052631575, 31.57894736842105, 47.368421052631575, 26.31578947368421, 57.89473684210527, 44.44444444444444, 33.33333333333333, 16.666666666666664, 48.0, 64.0, 36.0, 59.45945945945946, 43.24324324324324, 51.35135135135135, 47.05882352941176, 47.05882352941176, 47.05882352941176, 50.0, 56.25, 50.0, 65.21739130434783, 52.17391304347826, 34.78260869565217, 38.63636363636363, 52.27272727272727, 45.45454545454545, 40.0, 45.0, 45.0, 64.28571428571429, 57.14285714285714, 35.714285714285715, 80.0, 73.33333333333333, 60.0, 53.333333333333336, 66.66666666666666, 60.0, 46.666666666666664, 40.0, 33.33333333333333, 61.53846153846154, 69.23076923076923, 53.84615384615385, 53.84615384615385, 53.84615384615385, 27.27272727272727, 54.54545454545454, 40.909090909090914, 60.0, 26.666666666666668, 33.33333333333333, 30.76923076923077, 23.076923076923077, 23.076923076923077, 71.42857142857143, 42.857142857142854, 60.71428571428571, 42.10526315789473, 57.89473684210527, 42.10526315789473, 21.428571428571427, 63.33333333333333, 50.0, 53.333333333333336, 39.130434782608695, 34.78260869565217, 34.78260869565217, 50.0, 33.33333333333333, 40.0, 60.0, 21.73913043478261, 60.86956521739131, 34.78260869565217, 33.33333333333333, 26.666666666666668, 20.0, 28.57142857142857, 35.714285714285715, 46.666666666666664, 40.0, 26.666666666666668, 36.84210526315789, 42.10526315789473, 36.84210526315789, 57.14285714285714, 50.0, 33.33333333333333, 33.33333333333333, 76.92307692307693, 84.61538461538461, 23.076923076923077, 68.42105263157895, 36.84210526315789, 52.63157894736842, 50.0, 37.5, 33.33333333333333, 23.52941176470588, 40.0, 50.0, 40.0, 31.57894736842105, 69.23076923076923, 46.15384615384615, 16.666666666666664, 30.76923076923077, 50.0, 8.333333333333332, 8.333333333333332, 33.33333333333333, 33.33333333333333, 50.0, 33.33333333333333, 33.33333333333333, 50.0, 66.66666666666666, 33.33333333333333, 33.33333333333333, 75.0, 100.0, 33.33333333333333, 30.0, 33.33333333333333, 36.666666666666664, 40.0, 48.0, 60.0, 42.857142857142854, 42.857142857142854, 28.57142857142857, 50.0, 20.0, 30.0, 30.0, 40.0, 50.0, 36.36363636363637, 18.181818181818183, 18.181818181818183, 38.46153846153847, 46.15384615384615, 38.46153846153847, 53.84615384615385, 33.33333333333333, 0.0, 44.44444444444444, 36.36363636363637, 27.27272727272727, 36.36363636363637, 41.66666666666667, 45.83333333333333, 41.66666666666667, 23.076923076923077, 30.76923076923077, 23.076923076923077, 42.857142857142854, 7.142857142857142, 21.428571428571427, 25.0, 60.0, 50.0, 25.0, 25.0, 33.33333333333333, 53.84615384615385, 50.0, 25.0, 50.0, 33.33333333333333, 35.294117647058826, 55.55555555555556, 22.22222222222222, 18.51851851851852, 28.57142857142857, 67.85714285714286, 35.714285714285715, 44.827586206896555, 33.33333333333333, 26.666666666666668, 73.33333333333333, 21.052631578947366, 42.10526315789473, 42.10526315789473, 41.66666666666667, 8.333333333333332, 41.66666666666667, 37.5, 45.83333333333333, 25.0, 35.714285714285715, 57.89473684210527, 68.42105263157895, 57.89473684210527, 41.17647058823529, 88.23529411764706, 76.47058823529412, 92.85714285714286, 78.57142857142857, 53.57142857142857, 78.57142857142857, 42.857142857142854, 42.857142857142854, 53.84615384615385, 46.15384615384615, 23.076923076923077, 58.333333333333336, 83.33333333333334, 50.0, 84.61538461538461, 69.23076923076923, 61.53846153846154, 73.33333333333333, 100.0, 86.66666666666667, 58.82352941176471, 64.70588235294117, 47.05882352941176, 50.0, 50.0, 41.66666666666667, 52.94117647058824, 52.94117647058824, 52.94117647058824, 50.0, 58.333333333333336, 16.666666666666664, 66.66666666666666, 42.857142857142854, 35.714285714285715, 50.0, 61.53846153846154, 23.076923076923077, 23.076923076923077, 41.66666666666667, 41.66666666666667, 41.66666666666667, 37.5, 62.5, 62.5, 50.0, 66.66666666666666, 58.333333333333336, 45.45454545454545, 36.36363636363637, 45.45454545454545, 57.14285714285714, 28.57142857142857, 50.0, 64.28571428571429, 50.0, 50.0, 50.0, 43.75, 50.0, 47.61904761904761, 42.857142857142854, 57.89473684210527, 36.84210526315789, 68.42105263157895, 50.0, 70.0, 65.0, 26.666666666666668, 53.333333333333336, 60.0, 52.0, 72.0, 56.00000000000001, 58.333333333333336, 58.333333333333336, 58.333333333333336, 75.0, 50.0, 37.5, 62.5, 43.75, 56.25, 50.0, 62.5, 43.75, 47.05882352941176, 52.94117647058824, 23.52941176470588, 56.25, 62.5, 56.25, 35.714285714285715, 35.714285714285715, 50.0, 50.0, 42.857142857142854, 42.857142857142854, 37.5, 37.5, 25.0, 35.0, 15.0, 40.0, 28.57142857142857, 28.57142857142857, 42.857142857142854, 23.52941176470588, 23.52941176470588, 47.05882352941176, 27.77777777777778, 61.111111111111114, 44.44444444444444, 46.15384615384615, 46.15384615384615, 46.15384615384615, 73.33333333333333, 6.666666666666667, 66.66666666666666, 46.15384615384615, 30.76923076923077, 45.16129032258064, 67.74193548387096, 64.51612903225806, 41.935483870967744, 35.483870967741936, 56.52173913043478, 43.47826086956522, 47.82608695652174, 48.0, 36.0, 24.0, 31.818181818181817, 40.74074074074074, 25.925925925925924, 48.148148148148145, 24.0, 36.0, 36.0, 41.17647058823529, 47.05882352941176, 23.52941176470588, 44.44444444444444, 38.88888888888889, 50.0, 16.666666666666664, 22.727272727272727, 40.909090909090914, 72.72727272727273, 50.0, 46.15384615384615, 42.30769230769231, 33.33333333333333, 28.57142857142857, 42.857142857142854, 62.5, 18.75, 56.25, 53.125, 25.0, 46.875, 75.0, 83.33333333333334, 80.55555555555556, 82.75862068965517, 93.10344827586206, 62.06896551724138, 68.18181818181817, 74.24242424242425, 69.6969696969697, 57.608695652173914, 60.86956521739131, 60.86956521739131, 86.95652173913044, 68.11594202898551, 72.46376811594203, 83.05084745762711, 81.35593220338984, 76.27118644067797, 32.35294117647059, 38.23529411764706, 32.35294117647059, 40.35087719298245, 49.122807017543856, 43.859649122807014, 71.875, 43.75, 40.625, 40.0, 90.0, 80.0, 46.666666666666664, 33.33333333333333, 60.0, 31.57894736842105, 26.31578947368421, 42.10526315789473, 50.0, 33.33333333333333, 50.0, 52.94117647058824, 35.294117647058826, 41.17647058823529, 70.83333333333334, 41.66666666666667, 33.33333333333333, 53.333333333333336, 46.666666666666664, 26.666666666666668, 52.94117647058824, 22.22222222222222, 60.0, 60.0, 60.0, 13.333333333333334, 40.0, 33.33333333333333, 37.22222222222222, 23.809523809523807, 33.33333333333333, 28.57142857142857, 23.076923076923077, 7.6923076923076925, 33.33333333333333, 30.0, 35.0, 45.0, 60.0, 33.33333333333333, 66.66666666666666, 30.76923076923077, 66.66666666666666, 50.0, 50.0, 42.857142857142854, 44.44444444444444, 61.111111111111114, 29.411764705882355, 41.17647058823529, 35.294117647058826, 30.76923076923077, 15.384615384615385, 15.384615384615385, 7.6923076923076925, 6.666666666666667, 20.0, 26.666666666666668, 21.052631578947366, 52.63157894736842, 52.63157894736842, 21.052631578947366, 26.31578947368421, 5.263157894736842, 33.33333333333333, 52.38095238095239, 28.57142857142857, 17.647058823529413, 35.294117647058826, 39.84168865435356, 23.076923076923077, 30.76923076923077, 94.11764705882352, 47.05882352941176, 52.94117647058824, 73.68421052631578, 50.877192982456144, 71.9298245614035, 47.61904761904761, 66.66666666666666, 80.95238095238095, 65.38461538461539, 65.38461538461539, 65.38461538461539, 60.78431372549019, 72.54901960784314, 58.82352941176471, 60.78431372549019, 43.13725490196079, 45.09803921568628, 67.64705882352942, 73.52941176470588, 50.0, 65.3061224489796, 59.183673469387756, 57.14285714285714, 56.25, 75.0, 81.25, 54.285714285714285, 40.0, 82.6086956521739, 82.6086956521739, 78.26086956521739, 66.66666666666666, 66.66666666666666, 42.857142857142854, 50.0, 57.14285714285714, 64.86486486486487, 45.94594594594595, 35.714285714285715, 71.42857142857143, 75.0, 28.947368421052634, 28.947368421052634, 39.473684210526315, 88.46153846153845, 73.07692307692307, 88.46153846153845, 36.36363636363637, 63.63636363636363, 35.483870967741936, 38.70967741935484, 32.25806451612903, 73.17073170731707, 60.97560975609756, 33.33333333333333, 73.33333333333333, 63.33333333333333, 35.294117647058826, 50.0, 29.411764705882355, 28.000000000000004, 44.0, 52.0, 50.0, 66.66666666666666, 55.55555555555556, 41.17647058823529, 52.94117647058824, 17.647058823529413, 85.71428571428571, 28.57142857142857, 38.095238095238095, 35.13513513513514, 44.0, 44.0, 44.0, 38.46153846153847, 53.84615384615385, 46.15384615384615, 18.75, 56.25, 31.25, 39.130434782608695, 39.130434782608695, 34.78260869565217, 50.0, 50.0, 50.0, 41.17647058823529, 29.411764705882355, 23.52941176470588, 60.0, 26.666666666666668, 53.333333333333336, 25.0, 25.0, 37.5, 42.30769230769231, 46.15384615384615, 50.0, 45.0, 50.0, 20.0, 50.0, 15.384615384615385, 46.15384615384615, 57.14285714285714, 28.57142857142857, 62.857142857142854, 31.428571428571427, 34.285714285714285, 40.0, 21.428571428571427, 21.428571428571427, 42.857142857142854, 47.16981132075472, 20.754716981132077, 37.735849056603776, 88.88888888888889, 22.22222222222222, 27.77777777777778, 27.027027027027028, 27.027027027027028, 20.0, 36.0, 60.0, 59.25925925925925, 22.22222222222222, 44.44444444444444, 47.05882352941176, 58.82352941176471, 47.05882352941176, 36.84210526315789, 31.57894736842105, 42.10526315789473, 53.84615384615385, 50.0, 34.375, 34.375, 28.57142857142857, 14.285714285714285, 35.714285714285715, 45.45454545454545, 20.454545454545457, 68.18181818181817, 49.09090909090909, 27.27272727272727, 47.27272727272727, 45.0, 45.0, 30.0, 60.0, 55.00000000000001, 35.0, 52.38095238095239, 47.61904761904761, 19.047619047619047, 48.717948717948715, 25.64102564102564, 35.8974358974359, 26.08695652173913, 39.130434782608695, 43.47826086956522, 50.0, 53.57142857142857, 42.857142857142854, 39.130434782608695, 47.82608695652174, 47.82608695652174, 32.6530612244898, 54.83870967741935, 61.29032258064516, 45.16129032258064, 28.205128205128204, 43.58974358974359, 43.58974358974359, 78.94736842105263, 63.1578947368421, 21.052631578947366, 25.0, 61.904761904761905, 57.14285714285714, 33.33333333333333, 26.666666666666668, 40.0, 33.33333333333333, 75.0, 25.0, 54.54545454545454, 50.0, 27.27272727272727, 30.76923076923077, 26.923076923076923, 34.61538461538461, 45.83333333333333, 54.166666666666664, 29.166666666666668, 44.11764705882353, 54.166666666666664, 50.0, 41.66666666666667, 61.36363636363637, 16.666666666666664, 25.0, 25.0, 44.44444444444444, 51.11111111111111, 46.666666666666664, 45.83333333333333, 58.333333333333336, 58.333333333333336, 41.17647058823529, 64.70588235294117, 47.05882352941176, 36.36363636363637, 66.66666666666666, 61.111111111111114, 77.77777777777779, 28.125, 46.875, 43.75, 35.0, 30.0, 45.0, 57.89473684210527, 40.54054054054054, 48.64864864864865, 45.94594594594595, 66.66666666666666, 26.666666666666668, 33.33333333333333, 20.833333333333336, 29.166666666666668, 25.806451612903224, 48.38709677419355, 61.29032258064516, 61.904761904761905, 33.33333333333333, 28.57142857142857, 41.66666666666667, 27.77777777777778, 30.555555555555557, 28.57142857142857, 54.761904761904766, 38.095238095238095, 42.10526315789473, 34.21052631578947, 55.26315789473685, 27.27272727272727, 42.42424242424242, 36.36363636363637, 30.434782608695656, 39.130434782608695, 36.36363636363637, 51.515151515151516, 27.27272727272727, 35.294117647058826, 38.46153846153847, 41.02564102564102, 15.384615384615385, 35.0, 45.0, 50.0, 50.0, 43.75, 68.75, 25.0, 29.166666666666668, 45.83333333333333, 28.57142857142857, 33.33333333333333, 38.095238095238095, 32.142857142857146, 28.205128205128204, 41.02564102564102, 51.28205128205128, 39.130434782608695, 39.130434782608695, 52.17391304347826, 54.285714285714285, 57.14285714285714, 60.0, 41.66666666666667, 41.66666666666667, 45.83333333333333, 43.75, 37.5, 31.25, 26.190476190476193, 33.33333333333333, 61.904761904761905, 27.27272727272727, 63.63636363636363, 31.03448275862069, 20.689655172413794, 41.37931034482759, 44.827586206896555, 48.275862068965516, 31.03448275862069, 25.0, 33.33333333333333, 50.0, 27.27272727272727, 40.909090909090914, 36.36363636363637, 39.39393939393939, 27.27272727272727, 30.434782608695656, 56.52173913043478, 26.08695652173913, 36.95652173913043, 45.65217391304348, 41.30434782608695, 44.73684210526316, 34.21052631578947, 32.89473684210527, 8.695652173913043, 51.515151515151516, 33.33333333333333, 57.57575757575758, 38.88888888888889, 22.22222222222222, 44.44444444444444, 19.230769230769234, 46.15384615384615, 44.89795918367347, 36.734693877551024, 44.89795918367347, 28.000000000000004, 36.0, 36.0, 45.83333333333333, 37.66233766233766, 33.33333333333333, 42.10526315789473, 42.10526315789473, 34.21052631578947, 57.14285714285714, 42.857142857142854, 46.03174603174603, 51.35135135135135, 40.54054054054054, 45.94594594594595, 45.23809523809524, 40.476190476190474, 47.61904761904761, 39.285714285714285, 41.07142857142857, 32.142857142857146, 30.357142857142854, 58.06451612903226, 54.83870967741935, 54.83870967741935, 44.11764705882353, 50.0, 31.57894736842105, 44.73684210526316, 30.76923076923077, 22.22222222222222, 44.44444444444444, 50.0, 27.27272727272727, 27.27272727272727, 35.55555555555556, 48.888888888888886, 58.06451612903226, 43.07692307692308, 40.0, 38.46153846153847, 45.0, 25.0, 45.0, 61.111111111111114, 31.48148148148148, 38.88888888888889, 41.37931034482759, 24.137931034482758, 27.586206896551722, 27.906976744186046, 23.25581395348837, 35.714285714285715, 32.142857142857146, 32.142857142857146, 24.0, 56.00000000000001, 44.0, 33.33333333333333, 29.411764705882355, 47.05882352941176, 51.85185185185185, 51.85185185185185, 59.25925925925925, 60.86956521739131, 69.56521739130434, 44.827586206896555, 27.586206896551722, 34.48275862068966, 26.666666666666668, 66.66666666666666, 40.0, 40.54054054054054, 32.432432432432435, 32.432432432432435, 53.48837209302325, 48.837209302325576, 53.48837209302325, 52.5, 22.5, 35.0, 22.22222222222222, 51.85185185185185, 30.76923076923077, 26.923076923076923, 34.61538461538461, 60.0, 42.5, 42.5, 28.57142857142857, 41.17647058823529, 17.647058823529413, 56.52173913043478, 43.47826086956522, 17.391304347826086, 28.57142857142857, 50.0, 28.57142857142857, 46.15384615384615, 33.33333333333333, 33.33333333333333, 33.33333333333333, 66.66666666666666, 43.75, 43.75, 43.75, 53.333333333333336, 33.33333333333333, 46.666666666666664, 50.0, 43.75, 23.52941176470588, 58.82352941176471, 70.58823529411765, 45.45454545454545, 50.0, 31.818181818181817, 36.36363636363637, 36.36363636363637, 54.54545454545454, 52.38095238095239, 47.61904761904761, 52.38095238095239, 17.647058823529413, 35.294117647058826, 23.52941176470588, 35.0, 50.0, 80.0, 52.38095238095239, 19.047619047619047, 23.809523809523807, 42.10526315789473, 21.052631578947366, 47.368421052631575, 80.0, 13.333333333333334, 13.333333333333334, 50.0, 50.0, 69.23076923076923, 38.46153846153847, 46.15384615384615, 57.14285714285714, 28.57142857142857, 42.857142857142854, 28.000000000000004, 48.0, 52.0, 20.689655172413794, 34.48275862068966, 37.93103448275862, 39.130434782608695, 34.78260869565217, 39.130434782608695, 30.434782608695656, 42.30769230769231, 42.30769230769231, 19.230769230769234, 76.92307692307693, 65.38461538461539, 73.07692307692307, 77.77777777777779, 20.0, 60.0, 40.0, 18.181818181818183, 45.45454545454545, 81.81818181818183, 31.25, 43.75, 43.75, 33.33333333333333, 27.77777777777778, 55.55555555555556, 68.75, 18.75, 25.0, 35.294117647058826, 17.647058823529413, 56.25, 60.0, 46.666666666666664, 33.33333333333333, 10.0, 30.0, 40.0, 42.857142857142854, 42.857142857142854, 42.857142857142854, 39.285714285714285, 35.714285714285715, 46.42857142857143, 87.5, 87.5, 42.5, 30.0, 50.0, 12.5, 12.5, 50.0, 44.44444444444444, 55.55555555555556, 29.629629629629626, 40.74074074074074, 44.44444444444444, 41.66666666666667, 50.0, 29.166666666666668, 40.0, 55.00000000000001, 45.0, 45.45454545454545, 68.18181818181817, 59.09090909090909, 76.92307692307693, 46.15384615384615, 23.076923076923077, 52.38095238095239, 33.33333333333333, 38.095238095238095, 31.25, 31.25, 37.5, 46.666666666666664, 40.0, 40.0, 41.66666666666667, 58.333333333333336, 47.61904761904761, 23.809523809523807, 19.047619047619047, 36.84210526315789, 52.63157894736842, 42.10526315789473, 68.96551724137932, 44.827586206896555, 17.24137931034483, 33.33333333333333, 61.111111111111114, 27.77777777777778, 38.88888888888889, 27.77777777777778, 22.22222222222222, 25.0, 69.44444444444444, 46.875, 53.125, 50.0, 83.33333333333334, 16.666666666666664, 66.66666666666666, 38.88888888888889, 16.666666666666664, 72.22222222222221, 31.818181818181817, 40.0, 13.333333333333334, 46.666666666666664, 56.25, 12.5, 37.5, 36.36363636363637, 27.27272727272727, 45.45454545454545, 58.82352941176471, 35.294117647058826, 52.94117647058824, 16.666666666666664, 33.33333333333333, 33.33333333333333, 58.333333333333336, 58.333333333333336, 57.89473684210527, 63.1578947368421, 26.31578947368421, 37.5, 41.66666666666667, 41.66666666666667, 25.0, 69.23076923076923, 46.15384615384615, 15.384615384615385, 55.00000000000001, 60.0, 45.0, 35.714285714285715, 47.368421052631575, 57.89473684210527, 42.10526315789473, 37.5, 43.75, 37.5, 41.66666666666667, 33.33333333333333, 41.66666666666667, 19.047619047619047, 23.809523809523807, 52.38095238095239, 30.434782608695656, 34.78260869565217, 43.47826086956522, 16.666666666666664, 8.333333333333332, 63.63636363636363, 45.45454545454545, 18.181818181818183, 66.66666666666666, 66.66666666666666, 71.42857142857143, 62.857142857142854, 45.714285714285715, 48.57142857142857, 64.0, 64.0, 52.0, 34.78260869565217, 71.42857142857143, 60.0, 73.33333333333333, 68.88888888888889, 69.56521739130434, 52.17391304347826, 26.08695652173913, 62.96296296296296, 55.55555555555556, 29.629629629629626, 42.10526315789473, 21.052631578947366, 42.10526315789473, 43.75, 37.5, 37.5, 44.554455445544555, 44.554455445544555, 12.5, 18.75, 25.0, 57.14285714285714, 33.33333333333333, 47.61904761904761, 48.0, 52.0, 42.857142857142854, 42.857142857142854, 61.904761904761905, 42.857142857142854, 28.57142857142857, 51.35135135135135, 18.91891891891892, 43.24324324324324, 63.1578947368421, 57.89473684210527, 63.1578947368421, 87.5, 87.5, 25.0, 67.16417910447761, 73.13432835820896, 68.65671641791045, 52.38095238095239, 42.857142857142854, 33.33333333333333, 52.38095238095239, 33.33333333333333, 42.857142857142854, 65.625, 68.75, 59.375, 57.692307692307686, 65.38461538461539, 30.76923076923077, 44.44444444444444, 66.66666666666666, 23.25581395348837, 27.906976744186046, 48.837209302325576, 70.45454545454545, 38.46153846153847, 100.0, 36.0, 28.000000000000004, 50.0, 50.0, 14.285714285714285, 80.0, 93.33333333333333, 41.935483870967744, 38.70967741935484, 37.096774193548384, 33.33333333333333, 41.37931034482759, 48.275862068965516, 34.48275862068966, 45.16129032258064, 41.935483870967744, 29.03225806451613, 44.827586206896555, 63.63636363636363, 45.45454545454545, 50.0, 41.66666666666667, 41.66666666666667, 50.0, 30.76923076923077, 46.15384615384615, 38.46153846153847, 46.15384615384615, 53.84615384615385, 30.76923076923077, 39.726027397260275, 42.465753424657535, 39.726027397260275, 70.0, 60.0, 50.0, 33.33333333333333, 60.0, 26.666666666666668, 35.0, 70.0, 31.818181818181817, 40.0, 72.0, 84.0, 53.84615384615385, 53.84615384615385, 46.15384615384615, 40.57971014492754, 26.08695652173913, 39.130434782608695, 64.28571428571429, 21.428571428571427, 42.857142857142854, 56.25, 37.5, 36.84210526315789, 21.052631578947366, 47.368421052631575, 16.666666666666664, 33.33333333333333, 41.66666666666667, 34.48275862068966, 58.620689655172406, 44.827586206896555, 80.43478260869566, 52.17391304347826, 52.17391304347826, 39.39393939393939, 54.54545454545454, 36.36363636363637, 53.84615384615385, 30.76923076923077, 38.46153846153847, 69.23076923076923, 46.15384615384615, 69.23076923076923, 38.46153846153847, 72.72727272727273, 45.45454545454545, 33.33333333333333, 47.61904761904761, 19.047619047619047, 59.25925925925925, 22.22222222222222, 25.925925925925924, 72.72727272727273, 60.60606060606061, 72.53521126760563, 89.43661971830986, 86.61971830985915, 43.103448275862064, 11.904761904761903, 86.5079365079365, 15.873015873015872, 60.0, 40.0, 53.333333333333336, 47.82608695652174, 52.17391304347826, 34.78260869565217, 29.03225806451613, 38.70967741935484, 22.58064516129032, 66.66666666666666, 44.44444444444444, 50.0, 26.31578947368421, 31.57894736842105, 61.53846153846154, 53.84615384615385, 50.0, 37.5, 25.0, 31.25, 77.55102040816327, 48.97959183673469, 36.666666666666664, 16.666666666666664, 43.333333333333336, 36.0, 48.0, 32.0, 35.08771929824561, 38.59649122807017, 29.82456140350877, 19.047619047619047, 38.095238095238095, 38.095238095238095, 29.411764705882355, 17.647058823529413, 29.411764705882355, 52.38095238095239, 38.095238095238095, 42.857142857142854, 37.5, 63.63636363636363, 45.45454545454545, 54.54545454545454, 35.714285714285715, 21.428571428571427, 42.857142857142854, 53.125, 31.25, 40.625, 21.875, 34.375, 37.5, 47.82608695652174, 43.47826086956522, 39.130434782608695, 31.25, 50.0, 43.75, 38.095238095238095, 38.095238095238095, 47.61904761904761, 32.142857142857146, 28.57142857142857, 32.142857142857146, 45.83333333333333, 83.33333333333334, 37.5, 48.0, 32.0, 44.0, 35.714285714285715, 50.0, 42.857142857142854, 25.0, 15.0, 15.0]\n"
     ]
    }
   ],
   "source": [
    "print(matchvalues)"
   ]
  },
  {
   "cell_type": "code",
   "execution_count": null,
   "metadata": {},
   "outputs": [],
   "source": []
  }
 ],
 "metadata": {
  "kernelspec": {
   "display_name": "Python 3",
   "language": "python",
   "name": "python3"
  },
  "language_info": {
   "codemirror_mode": {
    "name": "ipython",
    "version": 3
   },
   "file_extension": ".py",
   "mimetype": "text/x-python",
   "name": "python",
   "nbconvert_exporter": "python",
   "pygments_lexer": "ipython3",
   "version": "3.7.1"
  }
 },
 "nbformat": 4,
 "nbformat_minor": 2
}
